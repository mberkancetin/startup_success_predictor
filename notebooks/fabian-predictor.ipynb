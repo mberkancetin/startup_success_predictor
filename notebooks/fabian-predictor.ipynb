{
 "cells": [
  {
   "cell_type": "code",
   "execution_count": null,
   "metadata": {},
   "outputs": [],
   "source": [
    "import pandas as pd\n",
    "import numpy as np\n",
    "import requests"
   ]
  },
  {
   "cell_type": "code",
   "execution_count": null,
   "metadata": {},
   "outputs": [],
   "source": [
    "params = (\n",
    "    58,\n",
    "    47.92\n",
    "    9.2667\n",
    "    \"10001+\"\n",
    "    1\n",
    "    \"Energy and Natural Resources\"\n",
    "    \"funding_status\":\"Pre-Seed\"\n",
    "    \"revenue_range\":\"Less than $1M\"\n",
    "    \"total_funding\":0\n",
    "    \"has_debt_financing\":false\n",
    "    \"has_grant\":false\n",
    ")"
   ]
  }
 ],
 "metadata": {
  "language_info": {
   "name": "python"
  }
 },
 "nbformat": 4,
 "nbformat_minor": 2
}
