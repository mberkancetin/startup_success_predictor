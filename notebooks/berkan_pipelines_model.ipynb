{
 "cells": [
  {
   "cell_type": "code",
   "execution_count": 1,
   "id": "62ec2760",
   "metadata": {},
   "outputs": [],
   "source": [
    "import matplotlib.pyplot as plt\n",
    "import numpy as np\n",
    "import pandas as pd\n",
    "import seaborn as sns\n",
    "\n",
    "from scipy import stats\n",
    "from tempfile import mkdtemp\n",
    "from shutil import rmtree\n",
    "\n",
    "\n",
    "from sklearn import set_config\n",
    "from sklearn.base import BaseEstimator, TransformerMixin\n",
    "from sklearn.compose import make_column_transformer, make_column_selector\n",
    "from sklearn.ensemble import AdaBoostRegressor, VotingRegressor, GradientBoostingRegressor, StackingRegressor, RandomForestRegressor\n",
    "from sklearn.feature_selection import SelectPercentile, mutual_info_regression, VarianceThreshold, SelectFromModel\n",
    "from sklearn.impute import SimpleImputer, KNNImputer\n",
    "from sklearn.linear_model import Ridge, LinearRegression\n",
    "from sklearn.metrics import make_scorer, mean_squared_error, mean_squared_log_error\n",
    "from sklearn.model_selection import train_test_split, cross_val_score, GridSearchCV, RandomizedSearchCV\n",
    "from sklearn.neighbors import KNeighborsRegressor\n",
    "from sklearn.pipeline import make_pipeline\n",
    "from sklearn.preprocessing import MinMaxScaler, OneHotEncoder, OrdinalEncoder, StandardScaler, RobustScaler\n",
    "from sklearn.svm import SVR\n",
    "from sklearn.tree import DecisionTreeRegressor"
   ]
  },
  {
   "cell_type": "code",
   "execution_count": 33,
   "id": "c9914c7f",
   "metadata": {},
   "outputs": [],
   "source": [
    "data = pd.read_csv(\"../raw_data/X_y_data2.csv\")\n",
    "data = data[data.y < 2]\n",
    "X = data.iloc[:, :-2]\n",
    "y = data.iloc[:, -1:]"
   ]
  },
  {
   "cell_type": "code",
   "execution_count": 43,
   "id": "089a5395",
   "metadata": {},
   "outputs": [
    {
     "data": {
      "text/plain": [
       "{'Unnamed: 0': 1    1\n",
       " Name: Unnamed: 0, dtype: int64,\n",
       " 'state': 1     Hamburg\n",
       " Name: state, dtype: object,\n",
       " 'funding_status': 1    Early Stage Venture\n",
       " Name: funding_status, dtype: object,\n",
       " 'revenue_range': 1    $1M to $10M\n",
       " Name: revenue_range, dtype: object,\n",
       " 'no_employees': 1    51-100\n",
       " Name: no_employees, dtype: object,\n",
       " 'no_founders': 1    1.0\n",
       " Name: no_founders, dtype: float64,\n",
       " 'industry_groups': 1    Healthcare and Biotechnology\n",
       " Name: industry_groups, dtype: object,\n",
       " 'website': 1    1\n",
       " Name: website, dtype: int64,\n",
       " 'phone': 1    0\n",
       " Name: phone, dtype: int64,\n",
       " 'email': 1    1\n",
       " Name: email, dtype: int64,\n",
       " 'linkedin': 1    1\n",
       " Name: linkedin, dtype: int64,\n",
       " 'twitter': 1    0\n",
       " Name: twitter, dtype: int64,\n",
       " 'facebook': 1    0\n",
       " Name: facebook, dtype: int64,\n",
       " 'founded_year': 1    2018\n",
       " Name: founded_year, dtype: int64,\n",
       " 'no_investors': 1    14.0\n",
       " Name: no_investors, dtype: float64,\n",
       " 'no_fund_rounds': 1    8.0\n",
       " Name: no_fund_rounds, dtype: float64,\n",
       " 'private_ipo': 1    1\n",
       " Name: private_ipo, dtype: int64,\n",
       " 'company_type': 1    1\n",
       " Name: company_type, dtype: int64,\n",
       " 'operting_status': 1    1\n",
       " Name: operting_status, dtype: int64,\n",
       " 'no_lead_investors': 1    4.0\n",
       " Name: no_lead_investors, dtype: float64,\n",
       " 'no_sub_orgs': 1    0.0\n",
       " Name: no_sub_orgs, dtype: float64,\n",
       " 'has_preseed': 1    0\n",
       " Name: has_preseed, dtype: int64,\n",
       " 'has_seed': 1    0\n",
       " Name: has_seed, dtype: int64,\n",
       " 'has_series_a': 1    1\n",
       " Name: has_series_a, dtype: int64,\n",
       " 'has_series_b': 1    1\n",
       " Name: has_series_b, dtype: int64,\n",
       " 'has_series_c': 1    0\n",
       " Name: has_series_c, dtype: int64,\n",
       " 'has_series_d': 1    0\n",
       " Name: has_series_d, dtype: int64,\n",
       " 'has_series_e': 1    0\n",
       " Name: has_series_e, dtype: int64,\n",
       " 'has_angel': 1    0\n",
       " Name: has_angel, dtype: int64,\n",
       " 'has_debt_financing': 1    0\n",
       " Name: has_debt_financing, dtype: int64,\n",
       " 'has_grant': 1    1\n",
       " Name: has_grant, dtype: int64,\n",
       " 'has_corporate_round': 1    0\n",
       " Name: has_corporate_round, dtype: int64,\n",
       " 'has_series_x': 1    1\n",
       " Name: has_series_x, dtype: int64,\n",
       " 'has_ico': 1    0\n",
       " Name: has_ico, dtype: int64}"
      ]
     },
     "execution_count": 43,
     "metadata": {},
     "output_type": "execute_result"
    }
   ],
   "source": [
    "dict(X.iloc[:1, :])"
   ]
  },
  {
   "cell_type": "code",
   "execution_count": 3,
   "id": "03bac606",
   "metadata": {},
   "outputs": [],
   "source": [
    "one_hot_category = [\n",
    "    \"state\", \"funding_status\", \"industry_groups\",\n",
    "]\n",
    "\n",
    "ordinal_category = [\n",
    "    \"no_employees\", \"revenue_range\"\n",
    "]\n",
    "\n",
    "numerical_features = [\n",
    "    'founded_year', 'website', 'phone', \"no_founders\",\n",
    "    'email', 'linkedin', 'twitter', 'facebook', 'no_investors', 'no_fund_rounds',\n",
    "    'no_sub_orgs', 'has_preseed', 'has_seed', 'has_series_a', 'has_series_b', 'has_series_c',\n",
    "    'has_series_d', 'has_series_e', 'has_angel', 'has_debt_financing',\n",
    "    'has_grant', 'has_corporate_round', 'has_series_x'\n",
    "]"
   ]
  },
  {
   "cell_type": "code",
   "execution_count": 4,
   "id": "1053e937",
   "metadata": {},
   "outputs": [],
   "source": [
    "no_employees_ordinal = [\n",
    "    '11-50', '51-100', '101-250', '251-500', '501-1000', '1001-5000', '5001-10000', '10001+'\n",
    "]"
   ]
  },
  {
   "cell_type": "code",
   "execution_count": 5,
   "id": "ad5334b8",
   "metadata": {},
   "outputs": [],
   "source": [
    "revenue_range_ordinal = [\n",
    "    'Less than $1M', '$1M to $10M', '$10M to $50M', '$50M to $100M', '$100M to $500M', '$500M to $1B', '$1B to $10B', '$10B+'\n",
    "]"
   ]
  },
  {
   "cell_type": "code",
   "execution_count": 6,
   "id": "adcf8fdf",
   "metadata": {},
   "outputs": [],
   "source": [
    "feat_ordinal_dict = {\n",
    "    \"no_employees\": no_employees_ordinal,\n",
    "    \"revenue_range\": revenue_range_ordinal\n",
    "}"
   ]
  },
  {
   "cell_type": "code",
   "execution_count": 7,
   "id": "8c92b040",
   "metadata": {},
   "outputs": [
    {
     "data": {
      "text/html": [
       "<style>#sk-container-id-1 {color: black;}#sk-container-id-1 pre{padding: 0;}#sk-container-id-1 div.sk-toggleable {background-color: white;}#sk-container-id-1 label.sk-toggleable__label {cursor: pointer;display: block;width: 100%;margin-bottom: 0;padding: 0.3em;box-sizing: border-box;text-align: center;}#sk-container-id-1 label.sk-toggleable__label-arrow:before {content: \"▸\";float: left;margin-right: 0.25em;color: #696969;}#sk-container-id-1 label.sk-toggleable__label-arrow:hover:before {color: black;}#sk-container-id-1 div.sk-estimator:hover label.sk-toggleable__label-arrow:before {color: black;}#sk-container-id-1 div.sk-toggleable__content {max-height: 0;max-width: 0;overflow: hidden;text-align: left;background-color: #f0f8ff;}#sk-container-id-1 div.sk-toggleable__content pre {margin: 0.2em;color: black;border-radius: 0.25em;background-color: #f0f8ff;}#sk-container-id-1 input.sk-toggleable__control:checked~div.sk-toggleable__content {max-height: 200px;max-width: 100%;overflow: auto;}#sk-container-id-1 input.sk-toggleable__control:checked~label.sk-toggleable__label-arrow:before {content: \"▾\";}#sk-container-id-1 div.sk-estimator input.sk-toggleable__control:checked~label.sk-toggleable__label {background-color: #d4ebff;}#sk-container-id-1 div.sk-label input.sk-toggleable__control:checked~label.sk-toggleable__label {background-color: #d4ebff;}#sk-container-id-1 input.sk-hidden--visually {border: 0;clip: rect(1px 1px 1px 1px);clip: rect(1px, 1px, 1px, 1px);height: 1px;margin: -1px;overflow: hidden;padding: 0;position: absolute;width: 1px;}#sk-container-id-1 div.sk-estimator {font-family: monospace;background-color: #f0f8ff;border: 1px dotted black;border-radius: 0.25em;box-sizing: border-box;margin-bottom: 0.5em;}#sk-container-id-1 div.sk-estimator:hover {background-color: #d4ebff;}#sk-container-id-1 div.sk-parallel-item::after {content: \"\";width: 100%;border-bottom: 1px solid gray;flex-grow: 1;}#sk-container-id-1 div.sk-label:hover label.sk-toggleable__label {background-color: #d4ebff;}#sk-container-id-1 div.sk-serial::before {content: \"\";position: absolute;border-left: 1px solid gray;box-sizing: border-box;top: 0;bottom: 0;left: 50%;z-index: 0;}#sk-container-id-1 div.sk-serial {display: flex;flex-direction: column;align-items: center;background-color: white;padding-right: 0.2em;padding-left: 0.2em;position: relative;}#sk-container-id-1 div.sk-item {position: relative;z-index: 1;}#sk-container-id-1 div.sk-parallel {display: flex;align-items: stretch;justify-content: center;background-color: white;position: relative;}#sk-container-id-1 div.sk-item::before, #sk-container-id-1 div.sk-parallel-item::before {content: \"\";position: absolute;border-left: 1px solid gray;box-sizing: border-box;top: 0;bottom: 0;left: 50%;z-index: -1;}#sk-container-id-1 div.sk-parallel-item {display: flex;flex-direction: column;z-index: 1;position: relative;background-color: white;}#sk-container-id-1 div.sk-parallel-item:first-child::after {align-self: flex-end;width: 50%;}#sk-container-id-1 div.sk-parallel-item:last-child::after {align-self: flex-start;width: 50%;}#sk-container-id-1 div.sk-parallel-item:only-child::after {width: 0;}#sk-container-id-1 div.sk-dashed-wrapped {border: 1px dashed gray;margin: 0 0.4em 0.5em 0.4em;box-sizing: border-box;padding-bottom: 0.4em;background-color: white;}#sk-container-id-1 div.sk-label label {font-family: monospace;font-weight: bold;display: inline-block;line-height: 1.2em;}#sk-container-id-1 div.sk-label-container {text-align: center;}#sk-container-id-1 div.sk-container {/* jupyter's `normalize.less` sets `[hidden] { display: none; }` but bootstrap.min.css set `[hidden] { display: none !important; }` so we also need the `!important` here to be able to override the default hidden behavior on the sphinx rendered scikit-learn.org. See: https://github.com/scikit-learn/scikit-learn/issues/21755 */display: inline-block !important;position: relative;}#sk-container-id-1 div.sk-text-repr-fallback {display: none;}</style><div id=\"sk-container-id-1\" class=\"sk-top-container\"><div class=\"sk-text-repr-fallback\"><pre>Pipeline(steps=[(&#x27;simpleimputer&#x27;, SimpleImputer(strategy=&#x27;most_frequent&#x27;)),\n",
       "                (&#x27;ordinalencoder&#x27;,\n",
       "                 OrdinalEncoder(categories=[[&#x27;11-50&#x27;, &#x27;51-100&#x27;, &#x27;101-250&#x27;,\n",
       "                                             &#x27;251-500&#x27;, &#x27;501-1000&#x27;, &#x27;1001-5000&#x27;,\n",
       "                                             &#x27;5001-10000&#x27;, &#x27;10001+&#x27;],\n",
       "                                            [&#x27;Less than $1M&#x27;, &#x27;$1M to $10M&#x27;,\n",
       "                                             &#x27;$10M to $50M&#x27;, &#x27;$50M to $100M&#x27;,\n",
       "                                             &#x27;$100M to $500M&#x27;, &#x27;$500M to $1B&#x27;,\n",
       "                                             &#x27;$1B to $10B&#x27;, &#x27;$10B+&#x27;]],\n",
       "                                dtype=&lt;class &#x27;numpy.int64&#x27;&gt;)),\n",
       "                (&#x27;minmaxscaler&#x27;, MinMaxScaler())])</pre><b>In a Jupyter environment, please rerun this cell to show the HTML representation or trust the notebook. <br />On GitHub, the HTML representation is unable to render, please try loading this page with nbviewer.org.</b></div><div class=\"sk-container\" hidden><div class=\"sk-item sk-dashed-wrapped\"><div class=\"sk-label-container\"><div class=\"sk-label sk-toggleable\"><input class=\"sk-toggleable__control sk-hidden--visually\" id=\"sk-estimator-id-1\" type=\"checkbox\" ><label for=\"sk-estimator-id-1\" class=\"sk-toggleable__label sk-toggleable__label-arrow\">Pipeline</label><div class=\"sk-toggleable__content\"><pre>Pipeline(steps=[(&#x27;simpleimputer&#x27;, SimpleImputer(strategy=&#x27;most_frequent&#x27;)),\n",
       "                (&#x27;ordinalencoder&#x27;,\n",
       "                 OrdinalEncoder(categories=[[&#x27;11-50&#x27;, &#x27;51-100&#x27;, &#x27;101-250&#x27;,\n",
       "                                             &#x27;251-500&#x27;, &#x27;501-1000&#x27;, &#x27;1001-5000&#x27;,\n",
       "                                             &#x27;5001-10000&#x27;, &#x27;10001+&#x27;],\n",
       "                                            [&#x27;Less than $1M&#x27;, &#x27;$1M to $10M&#x27;,\n",
       "                                             &#x27;$10M to $50M&#x27;, &#x27;$50M to $100M&#x27;,\n",
       "                                             &#x27;$100M to $500M&#x27;, &#x27;$500M to $1B&#x27;,\n",
       "                                             &#x27;$1B to $10B&#x27;, &#x27;$10B+&#x27;]],\n",
       "                                dtype=&lt;class &#x27;numpy.int64&#x27;&gt;)),\n",
       "                (&#x27;minmaxscaler&#x27;, MinMaxScaler())])</pre></div></div></div><div class=\"sk-serial\"><div class=\"sk-item\"><div class=\"sk-estimator sk-toggleable\"><input class=\"sk-toggleable__control sk-hidden--visually\" id=\"sk-estimator-id-2\" type=\"checkbox\" ><label for=\"sk-estimator-id-2\" class=\"sk-toggleable__label sk-toggleable__label-arrow\">SimpleImputer</label><div class=\"sk-toggleable__content\"><pre>SimpleImputer(strategy=&#x27;most_frequent&#x27;)</pre></div></div></div><div class=\"sk-item\"><div class=\"sk-estimator sk-toggleable\"><input class=\"sk-toggleable__control sk-hidden--visually\" id=\"sk-estimator-id-3\" type=\"checkbox\" ><label for=\"sk-estimator-id-3\" class=\"sk-toggleable__label sk-toggleable__label-arrow\">OrdinalEncoder</label><div class=\"sk-toggleable__content\"><pre>OrdinalEncoder(categories=[[&#x27;11-50&#x27;, &#x27;51-100&#x27;, &#x27;101-250&#x27;, &#x27;251-500&#x27;, &#x27;501-1000&#x27;,\n",
       "                            &#x27;1001-5000&#x27;, &#x27;5001-10000&#x27;, &#x27;10001+&#x27;],\n",
       "                           [&#x27;Less than $1M&#x27;, &#x27;$1M to $10M&#x27;, &#x27;$10M to $50M&#x27;,\n",
       "                            &#x27;$50M to $100M&#x27;, &#x27;$100M to $500M&#x27;, &#x27;$500M to $1B&#x27;,\n",
       "                            &#x27;$1B to $10B&#x27;, &#x27;$10B+&#x27;]],\n",
       "               dtype=&lt;class &#x27;numpy.int64&#x27;&gt;)</pre></div></div></div><div class=\"sk-item\"><div class=\"sk-estimator sk-toggleable\"><input class=\"sk-toggleable__control sk-hidden--visually\" id=\"sk-estimator-id-4\" type=\"checkbox\" ><label for=\"sk-estimator-id-4\" class=\"sk-toggleable__label sk-toggleable__label-arrow\">MinMaxScaler</label><div class=\"sk-toggleable__content\"><pre>MinMaxScaler()</pre></div></div></div></div></div></div></div>"
      ],
      "text/plain": [
       "Pipeline(steps=[('simpleimputer', SimpleImputer(strategy='most_frequent')),\n",
       "                ('ordinalencoder',\n",
       "                 OrdinalEncoder(categories=[['11-50', '51-100', '101-250',\n",
       "                                             '251-500', '501-1000', '1001-5000',\n",
       "                                             '5001-10000', '10001+'],\n",
       "                                            ['Less than $1M', '$1M to $10M',\n",
       "                                             '$10M to $50M', '$50M to $100M',\n",
       "                                             '$100M to $500M', '$500M to $1B',\n",
       "                                             '$1B to $10B', '$10B+']],\n",
       "                                dtype=<class 'numpy.int64'>)),\n",
       "                ('minmaxscaler', MinMaxScaler())])"
      ]
     },
     "execution_count": 7,
     "metadata": {},
     "output_type": "execute_result"
    }
   ],
   "source": [
    "encoder_ordinal = OrdinalEncoder(\n",
    "    categories = [feat_ordinal_dict[i] for i in ordinal_category],  \n",
    "    dtype = np.int64\n",
    ")\n",
    "\n",
    "\n",
    "preproc_ordinal = make_pipeline(\n",
    "    SimpleImputer(strategy = \"most_frequent\"),\n",
    "    encoder_ordinal, \n",
    "    MinMaxScaler()\n",
    ")\n",
    "\n",
    "preproc_ordinal"
   ]
  },
  {
   "cell_type": "code",
   "execution_count": 8,
   "id": "ca94b6c0",
   "metadata": {},
   "outputs": [
    {
     "data": {
      "text/html": [
       "<style>#sk-container-id-2 {color: black;}#sk-container-id-2 pre{padding: 0;}#sk-container-id-2 div.sk-toggleable {background-color: white;}#sk-container-id-2 label.sk-toggleable__label {cursor: pointer;display: block;width: 100%;margin-bottom: 0;padding: 0.3em;box-sizing: border-box;text-align: center;}#sk-container-id-2 label.sk-toggleable__label-arrow:before {content: \"▸\";float: left;margin-right: 0.25em;color: #696969;}#sk-container-id-2 label.sk-toggleable__label-arrow:hover:before {color: black;}#sk-container-id-2 div.sk-estimator:hover label.sk-toggleable__label-arrow:before {color: black;}#sk-container-id-2 div.sk-toggleable__content {max-height: 0;max-width: 0;overflow: hidden;text-align: left;background-color: #f0f8ff;}#sk-container-id-2 div.sk-toggleable__content pre {margin: 0.2em;color: black;border-radius: 0.25em;background-color: #f0f8ff;}#sk-container-id-2 input.sk-toggleable__control:checked~div.sk-toggleable__content {max-height: 200px;max-width: 100%;overflow: auto;}#sk-container-id-2 input.sk-toggleable__control:checked~label.sk-toggleable__label-arrow:before {content: \"▾\";}#sk-container-id-2 div.sk-estimator input.sk-toggleable__control:checked~label.sk-toggleable__label {background-color: #d4ebff;}#sk-container-id-2 div.sk-label input.sk-toggleable__control:checked~label.sk-toggleable__label {background-color: #d4ebff;}#sk-container-id-2 input.sk-hidden--visually {border: 0;clip: rect(1px 1px 1px 1px);clip: rect(1px, 1px, 1px, 1px);height: 1px;margin: -1px;overflow: hidden;padding: 0;position: absolute;width: 1px;}#sk-container-id-2 div.sk-estimator {font-family: monospace;background-color: #f0f8ff;border: 1px dotted black;border-radius: 0.25em;box-sizing: border-box;margin-bottom: 0.5em;}#sk-container-id-2 div.sk-estimator:hover {background-color: #d4ebff;}#sk-container-id-2 div.sk-parallel-item::after {content: \"\";width: 100%;border-bottom: 1px solid gray;flex-grow: 1;}#sk-container-id-2 div.sk-label:hover label.sk-toggleable__label {background-color: #d4ebff;}#sk-container-id-2 div.sk-serial::before {content: \"\";position: absolute;border-left: 1px solid gray;box-sizing: border-box;top: 0;bottom: 0;left: 50%;z-index: 0;}#sk-container-id-2 div.sk-serial {display: flex;flex-direction: column;align-items: center;background-color: white;padding-right: 0.2em;padding-left: 0.2em;position: relative;}#sk-container-id-2 div.sk-item {position: relative;z-index: 1;}#sk-container-id-2 div.sk-parallel {display: flex;align-items: stretch;justify-content: center;background-color: white;position: relative;}#sk-container-id-2 div.sk-item::before, #sk-container-id-2 div.sk-parallel-item::before {content: \"\";position: absolute;border-left: 1px solid gray;box-sizing: border-box;top: 0;bottom: 0;left: 50%;z-index: -1;}#sk-container-id-2 div.sk-parallel-item {display: flex;flex-direction: column;z-index: 1;position: relative;background-color: white;}#sk-container-id-2 div.sk-parallel-item:first-child::after {align-self: flex-end;width: 50%;}#sk-container-id-2 div.sk-parallel-item:last-child::after {align-self: flex-start;width: 50%;}#sk-container-id-2 div.sk-parallel-item:only-child::after {width: 0;}#sk-container-id-2 div.sk-dashed-wrapped {border: 1px dashed gray;margin: 0 0.4em 0.5em 0.4em;box-sizing: border-box;padding-bottom: 0.4em;background-color: white;}#sk-container-id-2 div.sk-label label {font-family: monospace;font-weight: bold;display: inline-block;line-height: 1.2em;}#sk-container-id-2 div.sk-label-container {text-align: center;}#sk-container-id-2 div.sk-container {/* jupyter's `normalize.less` sets `[hidden] { display: none; }` but bootstrap.min.css set `[hidden] { display: none !important; }` so we also need the `!important` here to be able to override the default hidden behavior on the sphinx rendered scikit-learn.org. See: https://github.com/scikit-learn/scikit-learn/issues/21755 */display: inline-block !important;position: relative;}#sk-container-id-2 div.sk-text-repr-fallback {display: none;}</style><div id=\"sk-container-id-2\" class=\"sk-top-container\"><div class=\"sk-text-repr-fallback\"><pre>Pipeline(steps=[(&#x27;knnimputer&#x27;, KNNImputer()), (&#x27;minmaxscaler&#x27;, MinMaxScaler())])</pre><b>In a Jupyter environment, please rerun this cell to show the HTML representation or trust the notebook. <br />On GitHub, the HTML representation is unable to render, please try loading this page with nbviewer.org.</b></div><div class=\"sk-container\" hidden><div class=\"sk-item sk-dashed-wrapped\"><div class=\"sk-label-container\"><div class=\"sk-label sk-toggleable\"><input class=\"sk-toggleable__control sk-hidden--visually\" id=\"sk-estimator-id-5\" type=\"checkbox\" ><label for=\"sk-estimator-id-5\" class=\"sk-toggleable__label sk-toggleable__label-arrow\">Pipeline</label><div class=\"sk-toggleable__content\"><pre>Pipeline(steps=[(&#x27;knnimputer&#x27;, KNNImputer()), (&#x27;minmaxscaler&#x27;, MinMaxScaler())])</pre></div></div></div><div class=\"sk-serial\"><div class=\"sk-item\"><div class=\"sk-estimator sk-toggleable\"><input class=\"sk-toggleable__control sk-hidden--visually\" id=\"sk-estimator-id-6\" type=\"checkbox\" ><label for=\"sk-estimator-id-6\" class=\"sk-toggleable__label sk-toggleable__label-arrow\">KNNImputer</label><div class=\"sk-toggleable__content\"><pre>KNNImputer()</pre></div></div></div><div class=\"sk-item\"><div class=\"sk-estimator sk-toggleable\"><input class=\"sk-toggleable__control sk-hidden--visually\" id=\"sk-estimator-id-7\" type=\"checkbox\" ><label for=\"sk-estimator-id-7\" class=\"sk-toggleable__label sk-toggleable__label-arrow\">MinMaxScaler</label><div class=\"sk-toggleable__content\"><pre>MinMaxScaler()</pre></div></div></div></div></div></div></div>"
      ],
      "text/plain": [
       "Pipeline(steps=[('knnimputer', KNNImputer()), ('minmaxscaler', MinMaxScaler())])"
      ]
     },
     "execution_count": 8,
     "metadata": {},
     "output_type": "execute_result"
    }
   ],
   "source": [
    "preproc_min_numerical = make_pipeline(\n",
    "    KNNImputer(),\n",
    "    MinMaxScaler())\n",
    "\n",
    "preproc_min_numerical"
   ]
  },
  {
   "cell_type": "code",
   "execution_count": 9,
   "id": "0807e499",
   "metadata": {},
   "outputs": [
    {
     "data": {
      "text/html": [
       "<style>#sk-container-id-3 {color: black;}#sk-container-id-3 pre{padding: 0;}#sk-container-id-3 div.sk-toggleable {background-color: white;}#sk-container-id-3 label.sk-toggleable__label {cursor: pointer;display: block;width: 100%;margin-bottom: 0;padding: 0.3em;box-sizing: border-box;text-align: center;}#sk-container-id-3 label.sk-toggleable__label-arrow:before {content: \"▸\";float: left;margin-right: 0.25em;color: #696969;}#sk-container-id-3 label.sk-toggleable__label-arrow:hover:before {color: black;}#sk-container-id-3 div.sk-estimator:hover label.sk-toggleable__label-arrow:before {color: black;}#sk-container-id-3 div.sk-toggleable__content {max-height: 0;max-width: 0;overflow: hidden;text-align: left;background-color: #f0f8ff;}#sk-container-id-3 div.sk-toggleable__content pre {margin: 0.2em;color: black;border-radius: 0.25em;background-color: #f0f8ff;}#sk-container-id-3 input.sk-toggleable__control:checked~div.sk-toggleable__content {max-height: 200px;max-width: 100%;overflow: auto;}#sk-container-id-3 input.sk-toggleable__control:checked~label.sk-toggleable__label-arrow:before {content: \"▾\";}#sk-container-id-3 div.sk-estimator input.sk-toggleable__control:checked~label.sk-toggleable__label {background-color: #d4ebff;}#sk-container-id-3 div.sk-label input.sk-toggleable__control:checked~label.sk-toggleable__label {background-color: #d4ebff;}#sk-container-id-3 input.sk-hidden--visually {border: 0;clip: rect(1px 1px 1px 1px);clip: rect(1px, 1px, 1px, 1px);height: 1px;margin: -1px;overflow: hidden;padding: 0;position: absolute;width: 1px;}#sk-container-id-3 div.sk-estimator {font-family: monospace;background-color: #f0f8ff;border: 1px dotted black;border-radius: 0.25em;box-sizing: border-box;margin-bottom: 0.5em;}#sk-container-id-3 div.sk-estimator:hover {background-color: #d4ebff;}#sk-container-id-3 div.sk-parallel-item::after {content: \"\";width: 100%;border-bottom: 1px solid gray;flex-grow: 1;}#sk-container-id-3 div.sk-label:hover label.sk-toggleable__label {background-color: #d4ebff;}#sk-container-id-3 div.sk-serial::before {content: \"\";position: absolute;border-left: 1px solid gray;box-sizing: border-box;top: 0;bottom: 0;left: 50%;z-index: 0;}#sk-container-id-3 div.sk-serial {display: flex;flex-direction: column;align-items: center;background-color: white;padding-right: 0.2em;padding-left: 0.2em;position: relative;}#sk-container-id-3 div.sk-item {position: relative;z-index: 1;}#sk-container-id-3 div.sk-parallel {display: flex;align-items: stretch;justify-content: center;background-color: white;position: relative;}#sk-container-id-3 div.sk-item::before, #sk-container-id-3 div.sk-parallel-item::before {content: \"\";position: absolute;border-left: 1px solid gray;box-sizing: border-box;top: 0;bottom: 0;left: 50%;z-index: -1;}#sk-container-id-3 div.sk-parallel-item {display: flex;flex-direction: column;z-index: 1;position: relative;background-color: white;}#sk-container-id-3 div.sk-parallel-item:first-child::after {align-self: flex-end;width: 50%;}#sk-container-id-3 div.sk-parallel-item:last-child::after {align-self: flex-start;width: 50%;}#sk-container-id-3 div.sk-parallel-item:only-child::after {width: 0;}#sk-container-id-3 div.sk-dashed-wrapped {border: 1px dashed gray;margin: 0 0.4em 0.5em 0.4em;box-sizing: border-box;padding-bottom: 0.4em;background-color: white;}#sk-container-id-3 div.sk-label label {font-family: monospace;font-weight: bold;display: inline-block;line-height: 1.2em;}#sk-container-id-3 div.sk-label-container {text-align: center;}#sk-container-id-3 div.sk-container {/* jupyter's `normalize.less` sets `[hidden] { display: none; }` but bootstrap.min.css set `[hidden] { display: none !important; }` so we also need the `!important` here to be able to override the default hidden behavior on the sphinx rendered scikit-learn.org. See: https://github.com/scikit-learn/scikit-learn/issues/21755 */display: inline-block !important;position: relative;}#sk-container-id-3 div.sk-text-repr-fallback {display: none;}</style><div id=\"sk-container-id-3\" class=\"sk-top-container\"><div class=\"sk-text-repr-fallback\"><pre>Pipeline(steps=[(&#x27;simpleimputer&#x27;, SimpleImputer(strategy=&#x27;most_frequent&#x27;)),\n",
       "                (&#x27;onehotencoder&#x27;, OneHotEncoder(handle_unknown=&#x27;ignore&#x27;))])</pre><b>In a Jupyter environment, please rerun this cell to show the HTML representation or trust the notebook. <br />On GitHub, the HTML representation is unable to render, please try loading this page with nbviewer.org.</b></div><div class=\"sk-container\" hidden><div class=\"sk-item sk-dashed-wrapped\"><div class=\"sk-label-container\"><div class=\"sk-label sk-toggleable\"><input class=\"sk-toggleable__control sk-hidden--visually\" id=\"sk-estimator-id-8\" type=\"checkbox\" ><label for=\"sk-estimator-id-8\" class=\"sk-toggleable__label sk-toggleable__label-arrow\">Pipeline</label><div class=\"sk-toggleable__content\"><pre>Pipeline(steps=[(&#x27;simpleimputer&#x27;, SimpleImputer(strategy=&#x27;most_frequent&#x27;)),\n",
       "                (&#x27;onehotencoder&#x27;, OneHotEncoder(handle_unknown=&#x27;ignore&#x27;))])</pre></div></div></div><div class=\"sk-serial\"><div class=\"sk-item\"><div class=\"sk-estimator sk-toggleable\"><input class=\"sk-toggleable__control sk-hidden--visually\" id=\"sk-estimator-id-9\" type=\"checkbox\" ><label for=\"sk-estimator-id-9\" class=\"sk-toggleable__label sk-toggleable__label-arrow\">SimpleImputer</label><div class=\"sk-toggleable__content\"><pre>SimpleImputer(strategy=&#x27;most_frequent&#x27;)</pre></div></div></div><div class=\"sk-item\"><div class=\"sk-estimator sk-toggleable\"><input class=\"sk-toggleable__control sk-hidden--visually\" id=\"sk-estimator-id-10\" type=\"checkbox\" ><label for=\"sk-estimator-id-10\" class=\"sk-toggleable__label sk-toggleable__label-arrow\">OneHotEncoder</label><div class=\"sk-toggleable__content\"><pre>OneHotEncoder(handle_unknown=&#x27;ignore&#x27;)</pre></div></div></div></div></div></div></div>"
      ],
      "text/plain": [
       "Pipeline(steps=[('simpleimputer', SimpleImputer(strategy='most_frequent')),\n",
       "                ('onehotencoder', OneHotEncoder(handle_unknown='ignore'))])"
      ]
     },
     "execution_count": 9,
     "metadata": {},
     "output_type": "execute_result"
    }
   ],
   "source": [
    "preproc_nominal = make_pipeline(\n",
    "    SimpleImputer(strategy=\"most_frequent\"),\n",
    "    OneHotEncoder(handle_unknown=\"ignore\")\n",
    ")\n",
    "\n",
    "preproc_nominal"
   ]
  },
  {
   "cell_type": "code",
   "execution_count": 10,
   "id": "abee8f32",
   "metadata": {},
   "outputs": [
    {
     "data": {
      "text/html": [
       "<style>#sk-container-id-4 {color: black;}#sk-container-id-4 pre{padding: 0;}#sk-container-id-4 div.sk-toggleable {background-color: white;}#sk-container-id-4 label.sk-toggleable__label {cursor: pointer;display: block;width: 100%;margin-bottom: 0;padding: 0.3em;box-sizing: border-box;text-align: center;}#sk-container-id-4 label.sk-toggleable__label-arrow:before {content: \"▸\";float: left;margin-right: 0.25em;color: #696969;}#sk-container-id-4 label.sk-toggleable__label-arrow:hover:before {color: black;}#sk-container-id-4 div.sk-estimator:hover label.sk-toggleable__label-arrow:before {color: black;}#sk-container-id-4 div.sk-toggleable__content {max-height: 0;max-width: 0;overflow: hidden;text-align: left;background-color: #f0f8ff;}#sk-container-id-4 div.sk-toggleable__content pre {margin: 0.2em;color: black;border-radius: 0.25em;background-color: #f0f8ff;}#sk-container-id-4 input.sk-toggleable__control:checked~div.sk-toggleable__content {max-height: 200px;max-width: 100%;overflow: auto;}#sk-container-id-4 input.sk-toggleable__control:checked~label.sk-toggleable__label-arrow:before {content: \"▾\";}#sk-container-id-4 div.sk-estimator input.sk-toggleable__control:checked~label.sk-toggleable__label {background-color: #d4ebff;}#sk-container-id-4 div.sk-label input.sk-toggleable__control:checked~label.sk-toggleable__label {background-color: #d4ebff;}#sk-container-id-4 input.sk-hidden--visually {border: 0;clip: rect(1px 1px 1px 1px);clip: rect(1px, 1px, 1px, 1px);height: 1px;margin: -1px;overflow: hidden;padding: 0;position: absolute;width: 1px;}#sk-container-id-4 div.sk-estimator {font-family: monospace;background-color: #f0f8ff;border: 1px dotted black;border-radius: 0.25em;box-sizing: border-box;margin-bottom: 0.5em;}#sk-container-id-4 div.sk-estimator:hover {background-color: #d4ebff;}#sk-container-id-4 div.sk-parallel-item::after {content: \"\";width: 100%;border-bottom: 1px solid gray;flex-grow: 1;}#sk-container-id-4 div.sk-label:hover label.sk-toggleable__label {background-color: #d4ebff;}#sk-container-id-4 div.sk-serial::before {content: \"\";position: absolute;border-left: 1px solid gray;box-sizing: border-box;top: 0;bottom: 0;left: 50%;z-index: 0;}#sk-container-id-4 div.sk-serial {display: flex;flex-direction: column;align-items: center;background-color: white;padding-right: 0.2em;padding-left: 0.2em;position: relative;}#sk-container-id-4 div.sk-item {position: relative;z-index: 1;}#sk-container-id-4 div.sk-parallel {display: flex;align-items: stretch;justify-content: center;background-color: white;position: relative;}#sk-container-id-4 div.sk-item::before, #sk-container-id-4 div.sk-parallel-item::before {content: \"\";position: absolute;border-left: 1px solid gray;box-sizing: border-box;top: 0;bottom: 0;left: 50%;z-index: -1;}#sk-container-id-4 div.sk-parallel-item {display: flex;flex-direction: column;z-index: 1;position: relative;background-color: white;}#sk-container-id-4 div.sk-parallel-item:first-child::after {align-self: flex-end;width: 50%;}#sk-container-id-4 div.sk-parallel-item:last-child::after {align-self: flex-start;width: 50%;}#sk-container-id-4 div.sk-parallel-item:only-child::after {width: 0;}#sk-container-id-4 div.sk-dashed-wrapped {border: 1px dashed gray;margin: 0 0.4em 0.5em 0.4em;box-sizing: border-box;padding-bottom: 0.4em;background-color: white;}#sk-container-id-4 div.sk-label label {font-family: monospace;font-weight: bold;display: inline-block;line-height: 1.2em;}#sk-container-id-4 div.sk-label-container {text-align: center;}#sk-container-id-4 div.sk-container {/* jupyter's `normalize.less` sets `[hidden] { display: none; }` but bootstrap.min.css set `[hidden] { display: none !important; }` so we also need the `!important` here to be able to override the default hidden behavior on the sphinx rendered scikit-learn.org. See: https://github.com/scikit-learn/scikit-learn/issues/21755 */display: inline-block !important;position: relative;}#sk-container-id-4 div.sk-text-repr-fallback {display: none;}</style><div id=\"sk-container-id-4\" class=\"sk-top-container\"><div class=\"sk-text-repr-fallback\"><pre>Pipeline(steps=[(&#x27;knnimputer&#x27;, KNNImputer()), (&#x27;robustscaler&#x27;, RobustScaler())])</pre><b>In a Jupyter environment, please rerun this cell to show the HTML representation or trust the notebook. <br />On GitHub, the HTML representation is unable to render, please try loading this page with nbviewer.org.</b></div><div class=\"sk-container\" hidden><div class=\"sk-item sk-dashed-wrapped\"><div class=\"sk-label-container\"><div class=\"sk-label sk-toggleable\"><input class=\"sk-toggleable__control sk-hidden--visually\" id=\"sk-estimator-id-11\" type=\"checkbox\" ><label for=\"sk-estimator-id-11\" class=\"sk-toggleable__label sk-toggleable__label-arrow\">Pipeline</label><div class=\"sk-toggleable__content\"><pre>Pipeline(steps=[(&#x27;knnimputer&#x27;, KNNImputer()), (&#x27;robustscaler&#x27;, RobustScaler())])</pre></div></div></div><div class=\"sk-serial\"><div class=\"sk-item\"><div class=\"sk-estimator sk-toggleable\"><input class=\"sk-toggleable__control sk-hidden--visually\" id=\"sk-estimator-id-12\" type=\"checkbox\" ><label for=\"sk-estimator-id-12\" class=\"sk-toggleable__label sk-toggleable__label-arrow\">KNNImputer</label><div class=\"sk-toggleable__content\"><pre>KNNImputer()</pre></div></div></div><div class=\"sk-item\"><div class=\"sk-estimator sk-toggleable\"><input class=\"sk-toggleable__control sk-hidden--visually\" id=\"sk-estimator-id-13\" type=\"checkbox\" ><label for=\"sk-estimator-id-13\" class=\"sk-toggleable__label sk-toggleable__label-arrow\">RobustScaler</label><div class=\"sk-toggleable__content\"><pre>RobustScaler()</pre></div></div></div></div></div></div></div>"
      ],
      "text/plain": [
       "Pipeline(steps=[('knnimputer', KNNImputer()), ('robustscaler', RobustScaler())])"
      ]
     },
     "execution_count": 10,
     "metadata": {},
     "output_type": "execute_result"
    }
   ],
   "source": [
    "preproc_robust_numerical = make_pipeline(\n",
    "    KNNImputer(),\n",
    "    RobustScaler())\n",
    "\n",
    "preproc_robust_numerical"
   ]
  },
  {
   "cell_type": "code",
   "execution_count": 11,
   "id": "013b5d7c",
   "metadata": {},
   "outputs": [],
   "source": [
    "preproc = make_column_transformer(\n",
    "        (preproc_ordinal, ordinal_category),\n",
    "        (preproc_min_numerical, numerical_features),\n",
    "        (preproc_nominal, one_hot_category),\n",
    "        # (preproc_robust_numerical, robust_category),\n",
    "        remainder=\"drop\"\n",
    ")"
   ]
  },
  {
   "cell_type": "code",
   "execution_count": 12,
   "id": "c3d67668",
   "metadata": {},
   "outputs": [
    {
     "data": {
      "text/html": [
       "<style>#sk-container-id-5 {color: black;}#sk-container-id-5 pre{padding: 0;}#sk-container-id-5 div.sk-toggleable {background-color: white;}#sk-container-id-5 label.sk-toggleable__label {cursor: pointer;display: block;width: 100%;margin-bottom: 0;padding: 0.3em;box-sizing: border-box;text-align: center;}#sk-container-id-5 label.sk-toggleable__label-arrow:before {content: \"▸\";float: left;margin-right: 0.25em;color: #696969;}#sk-container-id-5 label.sk-toggleable__label-arrow:hover:before {color: black;}#sk-container-id-5 div.sk-estimator:hover label.sk-toggleable__label-arrow:before {color: black;}#sk-container-id-5 div.sk-toggleable__content {max-height: 0;max-width: 0;overflow: hidden;text-align: left;background-color: #f0f8ff;}#sk-container-id-5 div.sk-toggleable__content pre {margin: 0.2em;color: black;border-radius: 0.25em;background-color: #f0f8ff;}#sk-container-id-5 input.sk-toggleable__control:checked~div.sk-toggleable__content {max-height: 200px;max-width: 100%;overflow: auto;}#sk-container-id-5 input.sk-toggleable__control:checked~label.sk-toggleable__label-arrow:before {content: \"▾\";}#sk-container-id-5 div.sk-estimator input.sk-toggleable__control:checked~label.sk-toggleable__label {background-color: #d4ebff;}#sk-container-id-5 div.sk-label input.sk-toggleable__control:checked~label.sk-toggleable__label {background-color: #d4ebff;}#sk-container-id-5 input.sk-hidden--visually {border: 0;clip: rect(1px 1px 1px 1px);clip: rect(1px, 1px, 1px, 1px);height: 1px;margin: -1px;overflow: hidden;padding: 0;position: absolute;width: 1px;}#sk-container-id-5 div.sk-estimator {font-family: monospace;background-color: #f0f8ff;border: 1px dotted black;border-radius: 0.25em;box-sizing: border-box;margin-bottom: 0.5em;}#sk-container-id-5 div.sk-estimator:hover {background-color: #d4ebff;}#sk-container-id-5 div.sk-parallel-item::after {content: \"\";width: 100%;border-bottom: 1px solid gray;flex-grow: 1;}#sk-container-id-5 div.sk-label:hover label.sk-toggleable__label {background-color: #d4ebff;}#sk-container-id-5 div.sk-serial::before {content: \"\";position: absolute;border-left: 1px solid gray;box-sizing: border-box;top: 0;bottom: 0;left: 50%;z-index: 0;}#sk-container-id-5 div.sk-serial {display: flex;flex-direction: column;align-items: center;background-color: white;padding-right: 0.2em;padding-left: 0.2em;position: relative;}#sk-container-id-5 div.sk-item {position: relative;z-index: 1;}#sk-container-id-5 div.sk-parallel {display: flex;align-items: stretch;justify-content: center;background-color: white;position: relative;}#sk-container-id-5 div.sk-item::before, #sk-container-id-5 div.sk-parallel-item::before {content: \"\";position: absolute;border-left: 1px solid gray;box-sizing: border-box;top: 0;bottom: 0;left: 50%;z-index: -1;}#sk-container-id-5 div.sk-parallel-item {display: flex;flex-direction: column;z-index: 1;position: relative;background-color: white;}#sk-container-id-5 div.sk-parallel-item:first-child::after {align-self: flex-end;width: 50%;}#sk-container-id-5 div.sk-parallel-item:last-child::after {align-self: flex-start;width: 50%;}#sk-container-id-5 div.sk-parallel-item:only-child::after {width: 0;}#sk-container-id-5 div.sk-dashed-wrapped {border: 1px dashed gray;margin: 0 0.4em 0.5em 0.4em;box-sizing: border-box;padding-bottom: 0.4em;background-color: white;}#sk-container-id-5 div.sk-label label {font-family: monospace;font-weight: bold;display: inline-block;line-height: 1.2em;}#sk-container-id-5 div.sk-label-container {text-align: center;}#sk-container-id-5 div.sk-container {/* jupyter's `normalize.less` sets `[hidden] { display: none; }` but bootstrap.min.css set `[hidden] { display: none !important; }` so we also need the `!important` here to be able to override the default hidden behavior on the sphinx rendered scikit-learn.org. See: https://github.com/scikit-learn/scikit-learn/issues/21755 */display: inline-block !important;position: relative;}#sk-container-id-5 div.sk-text-repr-fallback {display: none;}</style><div id=\"sk-container-id-5\" class=\"sk-top-container\"><div class=\"sk-text-repr-fallback\"><pre>ColumnTransformer(transformers=[(&#x27;pipeline-1&#x27;,\n",
       "                                 Pipeline(steps=[(&#x27;simpleimputer&#x27;,\n",
       "                                                  SimpleImputer(strategy=&#x27;most_frequent&#x27;)),\n",
       "                                                 (&#x27;ordinalencoder&#x27;,\n",
       "                                                  OrdinalEncoder(categories=[[&#x27;11-50&#x27;,\n",
       "                                                                              &#x27;51-100&#x27;,\n",
       "                                                                              &#x27;101-250&#x27;,\n",
       "                                                                              &#x27;251-500&#x27;,\n",
       "                                                                              &#x27;501-1000&#x27;,\n",
       "                                                                              &#x27;1001-5000&#x27;,\n",
       "                                                                              &#x27;5001-10000&#x27;,\n",
       "                                                                              &#x27;10001+&#x27;],\n",
       "                                                                             [&#x27;Less &#x27;\n",
       "                                                                              &#x27;than &#x27;\n",
       "                                                                              &#x27;$1M&#x27;,\n",
       "                                                                              &#x27;$1M &#x27;\n",
       "                                                                              &#x27;to &#x27;\n",
       "                                                                              &#x27;$10M&#x27;,\n",
       "                                                                              &#x27;$10M &#x27;\n",
       "                                                                              &#x27;to &#x27;\n",
       "                                                                              &#x27;$50M&#x27;,\n",
       "                                                                              &#x27;$50M &#x27;\n",
       "                                                                              &#x27;to &#x27;\n",
       "                                                                              &#x27;$100M&#x27;,\n",
       "                                                                              &#x27;$100M &#x27;\n",
       "                                                                              &#x27;to &#x27;\n",
       "                                                                              &#x27;$500M&#x27;,\n",
       "                                                                              &#x27;$500M &#x27;\n",
       "                                                                              &#x27;to &#x27;\n",
       "                                                                              &#x27;...\n",
       "                                  &#x27;has_series_a&#x27;, &#x27;has_series_b&#x27;,\n",
       "                                  &#x27;has_series_c&#x27;, &#x27;has_series_d&#x27;,\n",
       "                                  &#x27;has_series_e&#x27;, &#x27;has_angel&#x27;,\n",
       "                                  &#x27;has_debt_financing&#x27;, &#x27;has_grant&#x27;,\n",
       "                                  &#x27;has_corporate_round&#x27;, &#x27;has_series_x&#x27;]),\n",
       "                                (&#x27;pipeline-3&#x27;,\n",
       "                                 Pipeline(steps=[(&#x27;simpleimputer&#x27;,\n",
       "                                                  SimpleImputer(strategy=&#x27;most_frequent&#x27;)),\n",
       "                                                 (&#x27;onehotencoder&#x27;,\n",
       "                                                  OneHotEncoder(handle_unknown=&#x27;ignore&#x27;))]),\n",
       "                                 [&#x27;state&#x27;, &#x27;funding_status&#x27;,\n",
       "                                  &#x27;industry_groups&#x27;])])</pre><b>In a Jupyter environment, please rerun this cell to show the HTML representation or trust the notebook. <br />On GitHub, the HTML representation is unable to render, please try loading this page with nbviewer.org.</b></div><div class=\"sk-container\" hidden><div class=\"sk-item sk-dashed-wrapped\"><div class=\"sk-label-container\"><div class=\"sk-label sk-toggleable\"><input class=\"sk-toggleable__control sk-hidden--visually\" id=\"sk-estimator-id-14\" type=\"checkbox\" ><label for=\"sk-estimator-id-14\" class=\"sk-toggleable__label sk-toggleable__label-arrow\">ColumnTransformer</label><div class=\"sk-toggleable__content\"><pre>ColumnTransformer(transformers=[(&#x27;pipeline-1&#x27;,\n",
       "                                 Pipeline(steps=[(&#x27;simpleimputer&#x27;,\n",
       "                                                  SimpleImputer(strategy=&#x27;most_frequent&#x27;)),\n",
       "                                                 (&#x27;ordinalencoder&#x27;,\n",
       "                                                  OrdinalEncoder(categories=[[&#x27;11-50&#x27;,\n",
       "                                                                              &#x27;51-100&#x27;,\n",
       "                                                                              &#x27;101-250&#x27;,\n",
       "                                                                              &#x27;251-500&#x27;,\n",
       "                                                                              &#x27;501-1000&#x27;,\n",
       "                                                                              &#x27;1001-5000&#x27;,\n",
       "                                                                              &#x27;5001-10000&#x27;,\n",
       "                                                                              &#x27;10001+&#x27;],\n",
       "                                                                             [&#x27;Less &#x27;\n",
       "                                                                              &#x27;than &#x27;\n",
       "                                                                              &#x27;$1M&#x27;,\n",
       "                                                                              &#x27;$1M &#x27;\n",
       "                                                                              &#x27;to &#x27;\n",
       "                                                                              &#x27;$10M&#x27;,\n",
       "                                                                              &#x27;$10M &#x27;\n",
       "                                                                              &#x27;to &#x27;\n",
       "                                                                              &#x27;$50M&#x27;,\n",
       "                                                                              &#x27;$50M &#x27;\n",
       "                                                                              &#x27;to &#x27;\n",
       "                                                                              &#x27;$100M&#x27;,\n",
       "                                                                              &#x27;$100M &#x27;\n",
       "                                                                              &#x27;to &#x27;\n",
       "                                                                              &#x27;$500M&#x27;,\n",
       "                                                                              &#x27;$500M &#x27;\n",
       "                                                                              &#x27;to &#x27;\n",
       "                                                                              &#x27;...\n",
       "                                  &#x27;has_series_a&#x27;, &#x27;has_series_b&#x27;,\n",
       "                                  &#x27;has_series_c&#x27;, &#x27;has_series_d&#x27;,\n",
       "                                  &#x27;has_series_e&#x27;, &#x27;has_angel&#x27;,\n",
       "                                  &#x27;has_debt_financing&#x27;, &#x27;has_grant&#x27;,\n",
       "                                  &#x27;has_corporate_round&#x27;, &#x27;has_series_x&#x27;]),\n",
       "                                (&#x27;pipeline-3&#x27;,\n",
       "                                 Pipeline(steps=[(&#x27;simpleimputer&#x27;,\n",
       "                                                  SimpleImputer(strategy=&#x27;most_frequent&#x27;)),\n",
       "                                                 (&#x27;onehotencoder&#x27;,\n",
       "                                                  OneHotEncoder(handle_unknown=&#x27;ignore&#x27;))]),\n",
       "                                 [&#x27;state&#x27;, &#x27;funding_status&#x27;,\n",
       "                                  &#x27;industry_groups&#x27;])])</pre></div></div></div><div class=\"sk-parallel\"><div class=\"sk-parallel-item\"><div class=\"sk-item\"><div class=\"sk-label-container\"><div class=\"sk-label sk-toggleable\"><input class=\"sk-toggleable__control sk-hidden--visually\" id=\"sk-estimator-id-15\" type=\"checkbox\" ><label for=\"sk-estimator-id-15\" class=\"sk-toggleable__label sk-toggleable__label-arrow\">pipeline-1</label><div class=\"sk-toggleable__content\"><pre>[&#x27;no_employees&#x27;, &#x27;revenue_range&#x27;]</pre></div></div></div><div class=\"sk-serial\"><div class=\"sk-item\"><div class=\"sk-serial\"><div class=\"sk-item\"><div class=\"sk-estimator sk-toggleable\"><input class=\"sk-toggleable__control sk-hidden--visually\" id=\"sk-estimator-id-16\" type=\"checkbox\" ><label for=\"sk-estimator-id-16\" class=\"sk-toggleable__label sk-toggleable__label-arrow\">SimpleImputer</label><div class=\"sk-toggleable__content\"><pre>SimpleImputer(strategy=&#x27;most_frequent&#x27;)</pre></div></div></div><div class=\"sk-item\"><div class=\"sk-estimator sk-toggleable\"><input class=\"sk-toggleable__control sk-hidden--visually\" id=\"sk-estimator-id-17\" type=\"checkbox\" ><label for=\"sk-estimator-id-17\" class=\"sk-toggleable__label sk-toggleable__label-arrow\">OrdinalEncoder</label><div class=\"sk-toggleable__content\"><pre>OrdinalEncoder(categories=[[&#x27;11-50&#x27;, &#x27;51-100&#x27;, &#x27;101-250&#x27;, &#x27;251-500&#x27;, &#x27;501-1000&#x27;,\n",
       "                            &#x27;1001-5000&#x27;, &#x27;5001-10000&#x27;, &#x27;10001+&#x27;],\n",
       "                           [&#x27;Less than $1M&#x27;, &#x27;$1M to $10M&#x27;, &#x27;$10M to $50M&#x27;,\n",
       "                            &#x27;$50M to $100M&#x27;, &#x27;$100M to $500M&#x27;, &#x27;$500M to $1B&#x27;,\n",
       "                            &#x27;$1B to $10B&#x27;, &#x27;$10B+&#x27;]],\n",
       "               dtype=&lt;class &#x27;numpy.int64&#x27;&gt;)</pre></div></div></div><div class=\"sk-item\"><div class=\"sk-estimator sk-toggleable\"><input class=\"sk-toggleable__control sk-hidden--visually\" id=\"sk-estimator-id-18\" type=\"checkbox\" ><label for=\"sk-estimator-id-18\" class=\"sk-toggleable__label sk-toggleable__label-arrow\">MinMaxScaler</label><div class=\"sk-toggleable__content\"><pre>MinMaxScaler()</pre></div></div></div></div></div></div></div></div><div class=\"sk-parallel-item\"><div class=\"sk-item\"><div class=\"sk-label-container\"><div class=\"sk-label sk-toggleable\"><input class=\"sk-toggleable__control sk-hidden--visually\" id=\"sk-estimator-id-19\" type=\"checkbox\" ><label for=\"sk-estimator-id-19\" class=\"sk-toggleable__label sk-toggleable__label-arrow\">pipeline-2</label><div class=\"sk-toggleable__content\"><pre>[&#x27;founded_year&#x27;, &#x27;website&#x27;, &#x27;phone&#x27;, &#x27;no_founders&#x27;, &#x27;email&#x27;, &#x27;linkedin&#x27;, &#x27;twitter&#x27;, &#x27;facebook&#x27;, &#x27;no_investors&#x27;, &#x27;no_fund_rounds&#x27;, &#x27;no_sub_orgs&#x27;, &#x27;has_preseed&#x27;, &#x27;has_seed&#x27;, &#x27;has_series_a&#x27;, &#x27;has_series_b&#x27;, &#x27;has_series_c&#x27;, &#x27;has_series_d&#x27;, &#x27;has_series_e&#x27;, &#x27;has_angel&#x27;, &#x27;has_debt_financing&#x27;, &#x27;has_grant&#x27;, &#x27;has_corporate_round&#x27;, &#x27;has_series_x&#x27;]</pre></div></div></div><div class=\"sk-serial\"><div class=\"sk-item\"><div class=\"sk-serial\"><div class=\"sk-item\"><div class=\"sk-estimator sk-toggleable\"><input class=\"sk-toggleable__control sk-hidden--visually\" id=\"sk-estimator-id-20\" type=\"checkbox\" ><label for=\"sk-estimator-id-20\" class=\"sk-toggleable__label sk-toggleable__label-arrow\">KNNImputer</label><div class=\"sk-toggleable__content\"><pre>KNNImputer()</pre></div></div></div><div class=\"sk-item\"><div class=\"sk-estimator sk-toggleable\"><input class=\"sk-toggleable__control sk-hidden--visually\" id=\"sk-estimator-id-21\" type=\"checkbox\" ><label for=\"sk-estimator-id-21\" class=\"sk-toggleable__label sk-toggleable__label-arrow\">MinMaxScaler</label><div class=\"sk-toggleable__content\"><pre>MinMaxScaler()</pre></div></div></div></div></div></div></div></div><div class=\"sk-parallel-item\"><div class=\"sk-item\"><div class=\"sk-label-container\"><div class=\"sk-label sk-toggleable\"><input class=\"sk-toggleable__control sk-hidden--visually\" id=\"sk-estimator-id-22\" type=\"checkbox\" ><label for=\"sk-estimator-id-22\" class=\"sk-toggleable__label sk-toggleable__label-arrow\">pipeline-3</label><div class=\"sk-toggleable__content\"><pre>[&#x27;state&#x27;, &#x27;funding_status&#x27;, &#x27;industry_groups&#x27;]</pre></div></div></div><div class=\"sk-serial\"><div class=\"sk-item\"><div class=\"sk-serial\"><div class=\"sk-item\"><div class=\"sk-estimator sk-toggleable\"><input class=\"sk-toggleable__control sk-hidden--visually\" id=\"sk-estimator-id-23\" type=\"checkbox\" ><label for=\"sk-estimator-id-23\" class=\"sk-toggleable__label sk-toggleable__label-arrow\">SimpleImputer</label><div class=\"sk-toggleable__content\"><pre>SimpleImputer(strategy=&#x27;most_frequent&#x27;)</pre></div></div></div><div class=\"sk-item\"><div class=\"sk-estimator sk-toggleable\"><input class=\"sk-toggleable__control sk-hidden--visually\" id=\"sk-estimator-id-24\" type=\"checkbox\" ><label for=\"sk-estimator-id-24\" class=\"sk-toggleable__label sk-toggleable__label-arrow\">OneHotEncoder</label><div class=\"sk-toggleable__content\"><pre>OneHotEncoder(handle_unknown=&#x27;ignore&#x27;)</pre></div></div></div></div></div></div></div></div></div></div></div></div>"
      ],
      "text/plain": [
       "ColumnTransformer(transformers=[('pipeline-1',\n",
       "                                 Pipeline(steps=[('simpleimputer',\n",
       "                                                  SimpleImputer(strategy='most_frequent')),\n",
       "                                                 ('ordinalencoder',\n",
       "                                                  OrdinalEncoder(categories=[['11-50',\n",
       "                                                                              '51-100',\n",
       "                                                                              '101-250',\n",
       "                                                                              '251-500',\n",
       "                                                                              '501-1000',\n",
       "                                                                              '1001-5000',\n",
       "                                                                              '5001-10000',\n",
       "                                                                              '10001+'],\n",
       "                                                                             ['Less '\n",
       "                                                                              'than '\n",
       "                                                                              '$1M',\n",
       "                                                                              '$1M '\n",
       "                                                                              'to '\n",
       "                                                                              '$10M',\n",
       "                                                                              '$10M '\n",
       "                                                                              'to '\n",
       "                                                                              '$50M',\n",
       "                                                                              '$50M '\n",
       "                                                                              'to '\n",
       "                                                                              '$100M',\n",
       "                                                                              '$100M '\n",
       "                                                                              'to '\n",
       "                                                                              '$500M',\n",
       "                                                                              '$500M '\n",
       "                                                                              'to '\n",
       "                                                                              '...\n",
       "                                  'has_series_a', 'has_series_b',\n",
       "                                  'has_series_c', 'has_series_d',\n",
       "                                  'has_series_e', 'has_angel',\n",
       "                                  'has_debt_financing', 'has_grant',\n",
       "                                  'has_corporate_round', 'has_series_x']),\n",
       "                                ('pipeline-3',\n",
       "                                 Pipeline(steps=[('simpleimputer',\n",
       "                                                  SimpleImputer(strategy='most_frequent')),\n",
       "                                                 ('onehotencoder',\n",
       "                                                  OneHotEncoder(handle_unknown='ignore'))]),\n",
       "                                 ['state', 'funding_status',\n",
       "                                  'industry_groups'])])"
      ]
     },
     "execution_count": 12,
     "metadata": {},
     "output_type": "execute_result"
    }
   ],
   "source": [
    "preproc"
   ]
  },
  {
   "cell_type": "code",
   "execution_count": 13,
   "id": "5495a6c8",
   "metadata": {},
   "outputs": [],
   "source": [
    "X_preprocessed = pd.DataFrame(preproc.fit_transform(X, y))"
   ]
  },
  {
   "cell_type": "code",
   "execution_count": 14,
   "id": "5a3c7c0f",
   "metadata": {},
   "outputs": [],
   "source": [
    "X_train, X_test, y_train, y_test = train_test_split(X_preprocessed, y.iloc[:, -1:], test_size=.20, random_state=1)\n"
   ]
  },
  {
   "cell_type": "code",
   "execution_count": 15,
   "id": "a0f6e89b",
   "metadata": {},
   "outputs": [
    {
     "name": "stdout",
     "output_type": "stream",
     "text": [
      "Requirement already satisfied: tensorflow in /home/cetinsky/.pyenv/versions/3.10.6/envs/startup_success_predictor/lib/python3.10/site-packages (2.16.1)\n",
      "Requirement already satisfied: absl-py>=1.0.0 in /home/cetinsky/.pyenv/versions/3.10.6/envs/startup_success_predictor/lib/python3.10/site-packages (from tensorflow) (2.1.0)\n",
      "Requirement already satisfied: astunparse>=1.6.0 in /home/cetinsky/.pyenv/versions/3.10.6/envs/startup_success_predictor/lib/python3.10/site-packages (from tensorflow) (1.6.3)\n",
      "Requirement already satisfied: flatbuffers>=23.5.26 in /home/cetinsky/.pyenv/versions/3.10.6/envs/startup_success_predictor/lib/python3.10/site-packages (from tensorflow) (24.3.25)\n",
      "Requirement already satisfied: gast!=0.5.0,!=0.5.1,!=0.5.2,>=0.2.1 in /home/cetinsky/.pyenv/versions/3.10.6/envs/startup_success_predictor/lib/python3.10/site-packages (from tensorflow) (0.5.4)\n",
      "Requirement already satisfied: google-pasta>=0.1.1 in /home/cetinsky/.pyenv/versions/3.10.6/envs/startup_success_predictor/lib/python3.10/site-packages (from tensorflow) (0.2.0)\n",
      "Requirement already satisfied: h5py>=3.10.0 in /home/cetinsky/.pyenv/versions/3.10.6/envs/startup_success_predictor/lib/python3.10/site-packages (from tensorflow) (3.11.0)\n",
      "Requirement already satisfied: libclang>=13.0.0 in /home/cetinsky/.pyenv/versions/3.10.6/envs/startup_success_predictor/lib/python3.10/site-packages (from tensorflow) (18.1.1)\n",
      "Requirement already satisfied: ml-dtypes~=0.3.1 in /home/cetinsky/.pyenv/versions/3.10.6/envs/startup_success_predictor/lib/python3.10/site-packages (from tensorflow) (0.3.2)\n",
      "Requirement already satisfied: opt-einsum>=2.3.2 in /home/cetinsky/.pyenv/versions/3.10.6/envs/startup_success_predictor/lib/python3.10/site-packages (from tensorflow) (3.3.0)\n",
      "Requirement already satisfied: packaging in /home/cetinsky/.pyenv/versions/3.10.6/envs/startup_success_predictor/lib/python3.10/site-packages (from tensorflow) (24.0)\n",
      "Requirement already satisfied: protobuf!=4.21.0,!=4.21.1,!=4.21.2,!=4.21.3,!=4.21.4,!=4.21.5,<5.0.0dev,>=3.20.3 in /home/cetinsky/.pyenv/versions/3.10.6/envs/startup_success_predictor/lib/python3.10/site-packages (from tensorflow) (4.25.3)\n",
      "Requirement already satisfied: requests<3,>=2.21.0 in /home/cetinsky/.pyenv/versions/3.10.6/envs/startup_success_predictor/lib/python3.10/site-packages (from tensorflow) (2.32.2)\n",
      "Requirement already satisfied: setuptools in /home/cetinsky/.pyenv/versions/3.10.6/envs/startup_success_predictor/lib/python3.10/site-packages (from tensorflow) (63.2.0)\n",
      "Requirement already satisfied: six>=1.12.0 in /home/cetinsky/.pyenv/versions/3.10.6/envs/startup_success_predictor/lib/python3.10/site-packages (from tensorflow) (1.16.0)\n",
      "Requirement already satisfied: termcolor>=1.1.0 in /home/cetinsky/.pyenv/versions/3.10.6/envs/startup_success_predictor/lib/python3.10/site-packages (from tensorflow) (2.4.0)\n",
      "Requirement already satisfied: typing-extensions>=3.6.6 in /home/cetinsky/.pyenv/versions/3.10.6/envs/startup_success_predictor/lib/python3.10/site-packages (from tensorflow) (4.12.0)\n",
      "Requirement already satisfied: wrapt>=1.11.0 in /home/cetinsky/.pyenv/versions/3.10.6/envs/startup_success_predictor/lib/python3.10/site-packages (from tensorflow) (1.16.0)\n",
      "Requirement already satisfied: grpcio<2.0,>=1.24.3 in /home/cetinsky/.pyenv/versions/3.10.6/envs/startup_success_predictor/lib/python3.10/site-packages (from tensorflow) (1.64.0)\n",
      "Requirement already satisfied: tensorboard<2.17,>=2.16 in /home/cetinsky/.pyenv/versions/3.10.6/envs/startup_success_predictor/lib/python3.10/site-packages (from tensorflow) (2.16.2)\n",
      "Requirement already satisfied: keras>=3.0.0 in /home/cetinsky/.pyenv/versions/3.10.6/envs/startup_success_predictor/lib/python3.10/site-packages (from tensorflow) (3.3.3)\n",
      "Requirement already satisfied: tensorflow-io-gcs-filesystem>=0.23.1 in /home/cetinsky/.pyenv/versions/3.10.6/envs/startup_success_predictor/lib/python3.10/site-packages (from tensorflow) (0.37.0)\n",
      "Requirement already satisfied: numpy<2.0.0,>=1.23.5 in /home/cetinsky/.pyenv/versions/3.10.6/envs/startup_success_predictor/lib/python3.10/site-packages (from tensorflow) (1.23.5)\n",
      "Requirement already satisfied: wheel<1.0,>=0.23.0 in /home/cetinsky/.pyenv/versions/3.10.6/envs/startup_success_predictor/lib/python3.10/site-packages (from astunparse>=1.6.0->tensorflow) (0.43.0)\n",
      "Requirement already satisfied: rich in /home/cetinsky/.pyenv/versions/3.10.6/envs/startup_success_predictor/lib/python3.10/site-packages (from keras>=3.0.0->tensorflow) (13.7.1)\n",
      "Requirement already satisfied: namex in /home/cetinsky/.pyenv/versions/3.10.6/envs/startup_success_predictor/lib/python3.10/site-packages (from keras>=3.0.0->tensorflow) (0.0.8)\n",
      "Requirement already satisfied: optree in /home/cetinsky/.pyenv/versions/3.10.6/envs/startup_success_predictor/lib/python3.10/site-packages (from keras>=3.0.0->tensorflow) (0.11.0)\n",
      "Requirement already satisfied: charset-normalizer<4,>=2 in /home/cetinsky/.pyenv/versions/3.10.6/envs/startup_success_predictor/lib/python3.10/site-packages (from requests<3,>=2.21.0->tensorflow) (3.3.2)\n",
      "Requirement already satisfied: idna<4,>=2.5 in /home/cetinsky/.pyenv/versions/3.10.6/envs/startup_success_predictor/lib/python3.10/site-packages (from requests<3,>=2.21.0->tensorflow) (3.7)\n",
      "Requirement already satisfied: urllib3<3,>=1.21.1 in /home/cetinsky/.pyenv/versions/3.10.6/envs/startup_success_predictor/lib/python3.10/site-packages (from requests<3,>=2.21.0->tensorflow) (2.2.1)\n",
      "Requirement already satisfied: certifi>=2017.4.17 in /home/cetinsky/.pyenv/versions/3.10.6/envs/startup_success_predictor/lib/python3.10/site-packages (from requests<3,>=2.21.0->tensorflow) (2024.2.2)\n",
      "Requirement already satisfied: markdown>=2.6.8 in /home/cetinsky/.pyenv/versions/3.10.6/envs/startup_success_predictor/lib/python3.10/site-packages (from tensorboard<2.17,>=2.16->tensorflow) (3.6)\n",
      "Requirement already satisfied: tensorboard-data-server<0.8.0,>=0.7.0 in /home/cetinsky/.pyenv/versions/3.10.6/envs/startup_success_predictor/lib/python3.10/site-packages (from tensorboard<2.17,>=2.16->tensorflow) (0.7.2)\n",
      "Requirement already satisfied: werkzeug>=1.0.1 in /home/cetinsky/.pyenv/versions/3.10.6/envs/startup_success_predictor/lib/python3.10/site-packages (from tensorboard<2.17,>=2.16->tensorflow) (3.0.3)\n",
      "Requirement already satisfied: MarkupSafe>=2.1.1 in /home/cetinsky/.pyenv/versions/3.10.6/envs/startup_success_predictor/lib/python3.10/site-packages (from werkzeug>=1.0.1->tensorboard<2.17,>=2.16->tensorflow) (2.1.5)\n",
      "Requirement already satisfied: markdown-it-py>=2.2.0 in /home/cetinsky/.pyenv/versions/3.10.6/envs/startup_success_predictor/lib/python3.10/site-packages (from rich->keras>=3.0.0->tensorflow) (3.0.0)\n",
      "Requirement already satisfied: pygments<3.0.0,>=2.13.0 in /home/cetinsky/.pyenv/versions/3.10.6/envs/startup_success_predictor/lib/python3.10/site-packages (from rich->keras>=3.0.0->tensorflow) (2.18.0)\n",
      "Requirement already satisfied: mdurl~=0.1 in /home/cetinsky/.pyenv/versions/3.10.6/envs/startup_success_predictor/lib/python3.10/site-packages (from markdown-it-py>=2.2.0->rich->keras>=3.0.0->tensorflow) (0.1.2)\n"
     ]
    }
   ],
   "source": [
    "! pip install tensorflow"
   ]
  },
  {
   "cell_type": "code",
   "execution_count": 16,
   "id": "3342a01d",
   "metadata": {},
   "outputs": [
    {
     "name": "stderr",
     "output_type": "stream",
     "text": [
      "2024-05-31 13:09:53.110324: I tensorflow/core/util/port.cc:113] oneDNN custom operations are on. You may see slightly different numerical results due to floating-point round-off errors from different computation orders. To turn them off, set the environment variable `TF_ENABLE_ONEDNN_OPTS=0`.\n",
      "2024-05-31 13:09:53.114441: I external/local_tsl/tsl/cuda/cudart_stub.cc:32] Could not find cuda drivers on your machine, GPU will not be used.\n",
      "2024-05-31 13:09:53.117447: I external/local_tsl/tsl/cuda/cudart_stub.cc:32] Could not find cuda drivers on your machine, GPU will not be used.\n",
      "2024-05-31 13:09:53.202183: I tensorflow/core/platform/cpu_feature_guard.cc:210] This TensorFlow binary is optimized to use available CPU instructions in performance-critical operations.\n",
      "To enable the following instructions: AVX2 AVX512F AVX512_VNNI FMA, in other operations, rebuild TensorFlow with the appropriate compiler flags.\n",
      "2024-05-31 13:09:54.059870: W tensorflow/compiler/tf2tensorrt/utils/py_utils.cc:38] TF-TRT Warning: Could not find TensorRT\n"
     ]
    }
   ],
   "source": [
    "from tensorflow import keras\n",
    "from keras import Model, Sequential, layers, regularizers, optimizers\n",
    "from keras.callbacks import EarlyStopping"
   ]
  },
  {
   "cell_type": "code",
   "execution_count": 17,
   "id": "f3ba4dcc",
   "metadata": {},
   "outputs": [
    {
     "data": {
      "text/plain": [
       "(855, 66)"
      ]
     },
     "execution_count": 17,
     "metadata": {},
     "output_type": "execute_result"
    }
   ],
   "source": [
    "X_preprocessed.shape"
   ]
  },
  {
   "cell_type": "code",
   "execution_count": 18,
   "id": "ac32ae36",
   "metadata": {},
   "outputs": [
    {
     "name": "stderr",
     "output_type": "stream",
     "text": [
      "2024-05-31 13:09:54.726354: I external/local_xla/xla/stream_executor/cuda/cuda_executor.cc:984] could not open file to read NUMA node: /sys/bus/pci/devices/0000:01:00.0/numa_node\n",
      "Your kernel may have been built without NUMA support.\n",
      "2024-05-31 13:09:54.726720: W tensorflow/core/common_runtime/gpu/gpu_device.cc:2251] Cannot dlopen some GPU libraries. Please make sure the missing libraries mentioned above are installed properly if you would like to use GPU. Follow the guide at https://www.tensorflow.org/install/gpu for how to download and setup the required libraries for your platform.\n",
      "Skipping registering GPU devices...\n"
     ]
    }
   ],
   "source": [
    "reg = regularizers.l1_l2(l2=0.005)\n",
    "\n",
    "model = Sequential()\n",
    "model.add(layers.Input(shape=(X_preprocessed.shape[1],)))\n",
    "model.add(layers.Dense(50, activation=\"relu\", kernel_regularizer=reg))\n",
    "model.add(layers.BatchNormalization(momentum=0.9))\n",
    "model.add(layers.Dropout(rate=0.1))\n",
    "model.add(layers.Dense(20, activation=\"tanh\"))\n",
    "model.add(layers.BatchNormalization(momentum=0.9))\n",
    "model.add(layers.Dropout(rate=0.1))\n",
    "model.add(layers.Dense(1, activation=\"sigmoid\"))"
   ]
  },
  {
   "cell_type": "code",
   "execution_count": 19,
   "id": "3c11adde",
   "metadata": {},
   "outputs": [],
   "source": [
    "learning_rate = 0.01\n",
    "\n",
    "optimizer = optimizers.Adam(learning_rate=learning_rate)\n",
    "model.compile(loss='binary_crossentropy',\n",
    "              optimizer='adam',\n",
    "              metrics=['accuracy'])"
   ]
  },
  {
   "cell_type": "code",
   "execution_count": 20,
   "id": "84dc4a2b",
   "metadata": {},
   "outputs": [
    {
     "name": "stdout",
     "output_type": "stream",
     "text": [
      "Epoch 54: early stopping\n",
      "Restoring model weights from the end of the best epoch: 34.\n"
     ]
    }
   ],
   "source": [
    "es = EarlyStopping(\n",
    "    patience=20,\n",
    "    restore_best_weights=True,\n",
    "    verbose=1\n",
    ")\n",
    "\n",
    "history = model.fit(\n",
    "    X_train,\n",
    "    y_train,\n",
    "    validation_split=0.2,\n",
    "    epochs=700,\n",
    "    batch_size=32,\n",
    "    callbacks=[es],\n",
    "    verbose=0\n",
    ")"
   ]
  },
  {
   "cell_type": "code",
   "execution_count": 39,
   "id": "862d5b6f",
   "metadata": {},
   "outputs": [
    {
     "data": {
      "text/html": [
       "<pre style=\"white-space:pre;overflow-x:auto;line-height:normal;font-family:Menlo,'DejaVu Sans Mono',consolas,'Courier New',monospace\"><span style=\"font-weight: bold\">Model: \"sequential\"</span>\n",
       "</pre>\n"
      ],
      "text/plain": [
       "\u001b[1mModel: \"sequential\"\u001b[0m\n"
      ]
     },
     "metadata": {},
     "output_type": "display_data"
    },
    {
     "data": {
      "text/html": [
       "<pre style=\"white-space:pre;overflow-x:auto;line-height:normal;font-family:Menlo,'DejaVu Sans Mono',consolas,'Courier New',monospace\">┏━━━━━━━━━━━━━━━━━━━━━━━━━━━━━━━━━┳━━━━━━━━━━━━━━━━━━━━━━━━┳━━━━━━━━━━━━━━━┓\n",
       "┃<span style=\"font-weight: bold\"> Layer (type)                    </span>┃<span style=\"font-weight: bold\"> Output Shape           </span>┃<span style=\"font-weight: bold\">       Param # </span>┃\n",
       "┡━━━━━━━━━━━━━━━━━━━━━━━━━━━━━━━━━╇━━━━━━━━━━━━━━━━━━━━━━━━╇━━━━━━━━━━━━━━━┩\n",
       "│ dense (<span style=\"color: #0087ff; text-decoration-color: #0087ff\">Dense</span>)                   │ (<span style=\"color: #00d7ff; text-decoration-color: #00d7ff\">None</span>, <span style=\"color: #00af00; text-decoration-color: #00af00\">50</span>)             │         <span style=\"color: #00af00; text-decoration-color: #00af00\">3,350</span> │\n",
       "├─────────────────────────────────┼────────────────────────┼───────────────┤\n",
       "│ batch_normalization             │ (<span style=\"color: #00d7ff; text-decoration-color: #00d7ff\">None</span>, <span style=\"color: #00af00; text-decoration-color: #00af00\">50</span>)             │           <span style=\"color: #00af00; text-decoration-color: #00af00\">200</span> │\n",
       "│ (<span style=\"color: #0087ff; text-decoration-color: #0087ff\">BatchNormalization</span>)            │                        │               │\n",
       "├─────────────────────────────────┼────────────────────────┼───────────────┤\n",
       "│ dropout (<span style=\"color: #0087ff; text-decoration-color: #0087ff\">Dropout</span>)               │ (<span style=\"color: #00d7ff; text-decoration-color: #00d7ff\">None</span>, <span style=\"color: #00af00; text-decoration-color: #00af00\">50</span>)             │             <span style=\"color: #00af00; text-decoration-color: #00af00\">0</span> │\n",
       "├─────────────────────────────────┼────────────────────────┼───────────────┤\n",
       "│ dense_1 (<span style=\"color: #0087ff; text-decoration-color: #0087ff\">Dense</span>)                 │ (<span style=\"color: #00d7ff; text-decoration-color: #00d7ff\">None</span>, <span style=\"color: #00af00; text-decoration-color: #00af00\">20</span>)             │         <span style=\"color: #00af00; text-decoration-color: #00af00\">1,020</span> │\n",
       "├─────────────────────────────────┼────────────────────────┼───────────────┤\n",
       "│ batch_normalization_1           │ (<span style=\"color: #00d7ff; text-decoration-color: #00d7ff\">None</span>, <span style=\"color: #00af00; text-decoration-color: #00af00\">20</span>)             │            <span style=\"color: #00af00; text-decoration-color: #00af00\">80</span> │\n",
       "│ (<span style=\"color: #0087ff; text-decoration-color: #0087ff\">BatchNormalization</span>)            │                        │               │\n",
       "├─────────────────────────────────┼────────────────────────┼───────────────┤\n",
       "│ dropout_1 (<span style=\"color: #0087ff; text-decoration-color: #0087ff\">Dropout</span>)             │ (<span style=\"color: #00d7ff; text-decoration-color: #00d7ff\">None</span>, <span style=\"color: #00af00; text-decoration-color: #00af00\">20</span>)             │             <span style=\"color: #00af00; text-decoration-color: #00af00\">0</span> │\n",
       "├─────────────────────────────────┼────────────────────────┼───────────────┤\n",
       "│ dense_2 (<span style=\"color: #0087ff; text-decoration-color: #0087ff\">Dense</span>)                 │ (<span style=\"color: #00d7ff; text-decoration-color: #00d7ff\">None</span>, <span style=\"color: #00af00; text-decoration-color: #00af00\">1</span>)              │            <span style=\"color: #00af00; text-decoration-color: #00af00\">21</span> │\n",
       "└─────────────────────────────────┴────────────────────────┴───────────────┘\n",
       "</pre>\n"
      ],
      "text/plain": [
       "┏━━━━━━━━━━━━━━━━━━━━━━━━━━━━━━━━━┳━━━━━━━━━━━━━━━━━━━━━━━━┳━━━━━━━━━━━━━━━┓\n",
       "┃\u001b[1m \u001b[0m\u001b[1mLayer (type)                   \u001b[0m\u001b[1m \u001b[0m┃\u001b[1m \u001b[0m\u001b[1mOutput Shape          \u001b[0m\u001b[1m \u001b[0m┃\u001b[1m \u001b[0m\u001b[1m      Param #\u001b[0m\u001b[1m \u001b[0m┃\n",
       "┡━━━━━━━━━━━━━━━━━━━━━━━━━━━━━━━━━╇━━━━━━━━━━━━━━━━━━━━━━━━╇━━━━━━━━━━━━━━━┩\n",
       "│ dense (\u001b[38;5;33mDense\u001b[0m)                   │ (\u001b[38;5;45mNone\u001b[0m, \u001b[38;5;34m50\u001b[0m)             │         \u001b[38;5;34m3,350\u001b[0m │\n",
       "├─────────────────────────────────┼────────────────────────┼───────────────┤\n",
       "│ batch_normalization             │ (\u001b[38;5;45mNone\u001b[0m, \u001b[38;5;34m50\u001b[0m)             │           \u001b[38;5;34m200\u001b[0m │\n",
       "│ (\u001b[38;5;33mBatchNormalization\u001b[0m)            │                        │               │\n",
       "├─────────────────────────────────┼────────────────────────┼───────────────┤\n",
       "│ dropout (\u001b[38;5;33mDropout\u001b[0m)               │ (\u001b[38;5;45mNone\u001b[0m, \u001b[38;5;34m50\u001b[0m)             │             \u001b[38;5;34m0\u001b[0m │\n",
       "├─────────────────────────────────┼────────────────────────┼───────────────┤\n",
       "│ dense_1 (\u001b[38;5;33mDense\u001b[0m)                 │ (\u001b[38;5;45mNone\u001b[0m, \u001b[38;5;34m20\u001b[0m)             │         \u001b[38;5;34m1,020\u001b[0m │\n",
       "├─────────────────────────────────┼────────────────────────┼───────────────┤\n",
       "│ batch_normalization_1           │ (\u001b[38;5;45mNone\u001b[0m, \u001b[38;5;34m20\u001b[0m)             │            \u001b[38;5;34m80\u001b[0m │\n",
       "│ (\u001b[38;5;33mBatchNormalization\u001b[0m)            │                        │               │\n",
       "├─────────────────────────────────┼────────────────────────┼───────────────┤\n",
       "│ dropout_1 (\u001b[38;5;33mDropout\u001b[0m)             │ (\u001b[38;5;45mNone\u001b[0m, \u001b[38;5;34m20\u001b[0m)             │             \u001b[38;5;34m0\u001b[0m │\n",
       "├─────────────────────────────────┼────────────────────────┼───────────────┤\n",
       "│ dense_2 (\u001b[38;5;33mDense\u001b[0m)                 │ (\u001b[38;5;45mNone\u001b[0m, \u001b[38;5;34m1\u001b[0m)              │            \u001b[38;5;34m21\u001b[0m │\n",
       "└─────────────────────────────────┴────────────────────────┴───────────────┘\n"
      ]
     },
     "metadata": {},
     "output_type": "display_data"
    },
    {
     "data": {
      "text/html": [
       "<pre style=\"white-space:pre;overflow-x:auto;line-height:normal;font-family:Menlo,'DejaVu Sans Mono',consolas,'Courier New',monospace\"><span style=\"font-weight: bold\"> Total params: </span><span style=\"color: #00af00; text-decoration-color: #00af00\">13,735</span> (53.66 KB)\n",
       "</pre>\n"
      ],
      "text/plain": [
       "\u001b[1m Total params: \u001b[0m\u001b[38;5;34m13,735\u001b[0m (53.66 KB)\n"
      ]
     },
     "metadata": {},
     "output_type": "display_data"
    },
    {
     "data": {
      "text/html": [
       "<pre style=\"white-space:pre;overflow-x:auto;line-height:normal;font-family:Menlo,'DejaVu Sans Mono',consolas,'Courier New',monospace\"><span style=\"font-weight: bold\"> Trainable params: </span><span style=\"color: #00af00; text-decoration-color: #00af00\">4,531</span> (17.70 KB)\n",
       "</pre>\n"
      ],
      "text/plain": [
       "\u001b[1m Trainable params: \u001b[0m\u001b[38;5;34m4,531\u001b[0m (17.70 KB)\n"
      ]
     },
     "metadata": {},
     "output_type": "display_data"
    },
    {
     "data": {
      "text/html": [
       "<pre style=\"white-space:pre;overflow-x:auto;line-height:normal;font-family:Menlo,'DejaVu Sans Mono',consolas,'Courier New',monospace\"><span style=\"font-weight: bold\"> Non-trainable params: </span><span style=\"color: #00af00; text-decoration-color: #00af00\">140</span> (560.00 B)\n",
       "</pre>\n"
      ],
      "text/plain": [
       "\u001b[1m Non-trainable params: \u001b[0m\u001b[38;5;34m140\u001b[0m (560.00 B)\n"
      ]
     },
     "metadata": {},
     "output_type": "display_data"
    },
    {
     "data": {
      "text/html": [
       "<pre style=\"white-space:pre;overflow-x:auto;line-height:normal;font-family:Menlo,'DejaVu Sans Mono',consolas,'Courier New',monospace\"><span style=\"font-weight: bold\"> Optimizer params: </span><span style=\"color: #00af00; text-decoration-color: #00af00\">9,064</span> (35.41 KB)\n",
       "</pre>\n"
      ],
      "text/plain": [
       "\u001b[1m Optimizer params: \u001b[0m\u001b[38;5;34m9,064\u001b[0m (35.41 KB)\n"
      ]
     },
     "metadata": {},
     "output_type": "display_data"
    }
   ],
   "source": [
    "model.summary()"
   ]
  },
  {
   "cell_type": "code",
   "execution_count": 21,
   "id": "9bdb0c86",
   "metadata": {},
   "outputs": [
    {
     "data": {
      "text/plain": [
       "{'accuracy': [0.5338208675384521,\n",
       "  0.5831809639930725,\n",
       "  0.7001827955245972,\n",
       "  0.7404022216796875,\n",
       "  0.7586837410926819,\n",
       "  0.7824497222900391,\n",
       "  0.8043875694274902,\n",
       "  0.8446069359779358,\n",
       "  0.8574039936065674,\n",
       "  0.8903107643127441,\n",
       "  0.868372917175293,\n",
       "  0.8976234197616577,\n",
       "  0.8866544961929321,\n",
       "  0.9031078815460205,\n",
       "  0.9049360156059265,\n",
       "  0.9104204773902893,\n",
       "  0.8994515538215637,\n",
       "  0.9396709203720093,\n",
       "  0.9378427863121033,\n",
       "  0.9360146522521973,\n",
       "  0.9414991140365601,\n",
       "  0.9414991140365601,\n",
       "  0.9506398439407349,\n",
       "  0.9341864585876465,\n",
       "  0.9305301904678345,\n",
       "  0.9451553821563721,\n",
       "  0.9469835758209229,\n",
       "  0.9469835758209229,\n",
       "  0.9634369015693665,\n",
       "  0.9579524397850037,\n",
       "  0.9597806334495544,\n",
       "  0.9652650952339172,\n",
       "  0.9524679780006409,\n",
       "  0.9652650952339172,\n",
       "  0.9670932292938232,\n",
       "  0.9542961716651917,\n",
       "  0.9616087675094604,\n",
       "  0.9634369015693665,\n",
       "  0.97074955701828,\n",
       "  0.9634369015693665,\n",
       "  0.974405825138092,\n",
       "  0.9762340188026428,\n",
       "  0.9616087675094604,\n",
       "  0.9652650952339172,\n",
       "  0.9670932292938232,\n",
       "  0.9780621528625488,\n",
       "  0.974405825138092,\n",
       "  0.97074955701828,\n",
       "  0.97074955701828,\n",
       "  0.9762340188026428,\n",
       "  0.9798902869224548,\n",
       "  0.9634369015693665,\n",
       "  0.9652650952339172,\n",
       "  0.9670932292938232],\n",
       " 'loss': [0.995691180229187,\n",
       "  0.9170748591423035,\n",
       "  0.832396388053894,\n",
       "  0.7730672955513,\n",
       "  0.7228468656539917,\n",
       "  0.6923081278800964,\n",
       "  0.6456853747367859,\n",
       "  0.6067745685577393,\n",
       "  0.5710614919662476,\n",
       "  0.5381788015365601,\n",
       "  0.5164394378662109,\n",
       "  0.48333939909935,\n",
       "  0.4775471091270447,\n",
       "  0.4652036726474762,\n",
       "  0.42599090933799744,\n",
       "  0.424034982919693,\n",
       "  0.40264660120010376,\n",
       "  0.3708205819129944,\n",
       "  0.3478362262248993,\n",
       "  0.3444741368293762,\n",
       "  0.3308373689651489,\n",
       "  0.31613999605178833,\n",
       "  0.3040771484375,\n",
       "  0.29606443643569946,\n",
       "  0.29886043071746826,\n",
       "  0.2853845953941345,\n",
       "  0.26938483119010925,\n",
       "  0.26990729570388794,\n",
       "  0.2501138746738434,\n",
       "  0.24066586792469025,\n",
       "  0.22476054728031158,\n",
       "  0.22533538937568665,\n",
       "  0.2472841590642929,\n",
       "  0.21784281730651855,\n",
       "  0.21049931645393372,\n",
       "  0.21328991651535034,\n",
       "  0.21524843573570251,\n",
       "  0.21502362191677094,\n",
       "  0.19438831508159637,\n",
       "  0.20217187702655792,\n",
       "  0.18315477669239044,\n",
       "  0.18436992168426514,\n",
       "  0.1802087128162384,\n",
       "  0.183503657579422,\n",
       "  0.1766585111618042,\n",
       "  0.16349336504936218,\n",
       "  0.16600091755390167,\n",
       "  0.17363379895687103,\n",
       "  0.1678546518087387,\n",
       "  0.15485426783561707,\n",
       "  0.15273211896419525,\n",
       "  0.16721925139427185,\n",
       "  0.18184612691402435,\n",
       "  0.15754938125610352],\n",
       " 'val_accuracy': [0.5620437860488892,\n",
       "  0.6642335653305054,\n",
       "  0.6569343209266663,\n",
       "  0.7080292105674744,\n",
       "  0.7445255517959595,\n",
       "  0.7518247961997986,\n",
       "  0.7664233446121216,\n",
       "  0.8248175382614136,\n",
       "  0.8102189898490906,\n",
       "  0.8613138794898987,\n",
       "  0.8540145754814148,\n",
       "  0.8686131238937378,\n",
       "  0.8613138794898987,\n",
       "  0.8467153310775757,\n",
       "  0.8394160866737366,\n",
       "  0.8467153310775757,\n",
       "  0.8540145754814148,\n",
       "  0.8540145754814148,\n",
       "  0.8613138794898987,\n",
       "  0.8832116723060608,\n",
       "  0.8832116723060608,\n",
       "  0.8467153310775757,\n",
       "  0.8613138794898987,\n",
       "  0.8613138794898987,\n",
       "  0.8759124279022217,\n",
       "  0.8759124279022217,\n",
       "  0.8540145754814148,\n",
       "  0.8321167826652527,\n",
       "  0.8613138794898987,\n",
       "  0.8905109763145447,\n",
       "  0.8613138794898987,\n",
       "  0.8467153310775757,\n",
       "  0.8613138794898987,\n",
       "  0.8613138794898987,\n",
       "  0.8467153310775757,\n",
       "  0.8175182342529297,\n",
       "  0.8394160866737366,\n",
       "  0.8394160866737366,\n",
       "  0.8175182342529297,\n",
       "  0.8248175382614136,\n",
       "  0.8248175382614136,\n",
       "  0.8394160866737366,\n",
       "  0.8175182342529297,\n",
       "  0.8248175382614136,\n",
       "  0.8321167826652527,\n",
       "  0.8467153310775757,\n",
       "  0.8321167826652527,\n",
       "  0.8248175382614136,\n",
       "  0.8394160866737366,\n",
       "  0.8394160866737366,\n",
       "  0.8321167826652527,\n",
       "  0.8467153310775757,\n",
       "  0.8394160866737366,\n",
       "  0.8394160866737366],\n",
       " 'val_loss': [0.946158766746521,\n",
       "  0.8400152921676636,\n",
       "  0.8014741539955139,\n",
       "  0.7417314648628235,\n",
       "  0.7139043807983398,\n",
       "  0.6913721561431885,\n",
       "  0.6466012597084045,\n",
       "  0.6083590388298035,\n",
       "  0.602138102054596,\n",
       "  0.54242342710495,\n",
       "  0.5505372881889343,\n",
       "  0.49960219860076904,\n",
       "  0.49664536118507385,\n",
       "  0.4766470789909363,\n",
       "  0.48446041345596313,\n",
       "  0.4495914876461029,\n",
       "  0.44400644302368164,\n",
       "  0.44077008962631226,\n",
       "  0.4243025779724121,\n",
       "  0.42193424701690674,\n",
       "  0.406496524810791,\n",
       "  0.4348645508289337,\n",
       "  0.43357163667678833,\n",
       "  0.4136625826358795,\n",
       "  0.3998886048793793,\n",
       "  0.3912699222564697,\n",
       "  0.40560656785964966,\n",
       "  0.43601739406585693,\n",
       "  0.41869056224823,\n",
       "  0.3881731629371643,\n",
       "  0.4032469689846039,\n",
       "  0.41137778759002686,\n",
       "  0.39146095514297485,\n",
       "  0.3858911693096161,\n",
       "  0.41818639636039734,\n",
       "  0.44036129117012024,\n",
       "  0.43495267629623413,\n",
       "  0.42111584544181824,\n",
       "  0.47333967685699463,\n",
       "  0.4570886790752411,\n",
       "  0.4729454517364502,\n",
       "  0.4301275610923767,\n",
       "  0.41928449273109436,\n",
       "  0.43243271112442017,\n",
       "  0.4858548939228058,\n",
       "  0.43317970633506775,\n",
       "  0.45039600133895874,\n",
       "  0.524956226348877,\n",
       "  0.43135589361190796,\n",
       "  0.42824625968933105,\n",
       "  0.449989378452301,\n",
       "  0.4295743703842163,\n",
       "  0.4483729898929596,\n",
       "  0.48539572954177856]}"
      ]
     },
     "execution_count": 21,
     "metadata": {},
     "output_type": "execute_result"
    }
   ],
   "source": [
    "history.history"
   ]
  },
  {
   "cell_type": "code",
   "execution_count": 23,
   "id": "73a4adc6",
   "metadata": {},
   "outputs": [],
   "source": [
    "df = pd.read_csv(\"../raw_data/X_y_data2.csv\")\n",
    "df = df[df.y > 1]\n",
    "X_pred = df.iloc[:, :-2]"
   ]
  },
  {
   "cell_type": "code",
   "execution_count": 24,
   "id": "e17db1f5",
   "metadata": {},
   "outputs": [],
   "source": [
    "X_pred_preprocessed = preproc.transform(X_pred)"
   ]
  },
  {
   "cell_type": "code",
   "execution_count": 25,
   "id": "a244e3d5",
   "metadata": {
    "scrolled": true
   },
   "outputs": [
    {
     "name": "stdout",
     "output_type": "stream",
     "text": [
      "\u001b[1m42/42\u001b[0m \u001b[32m━━━━━━━━━━━━━━━━━━━━\u001b[0m\u001b[37m\u001b[0m \u001b[1m0s\u001b[0m 2ms/step\n"
     ]
    },
    {
     "data": {
      "text/plain": [
       "array([[0.9611442 ],\n",
       "       [0.9547018 ],\n",
       "       [0.64973736],\n",
       "       ...,\n",
       "       [0.8771408 ],\n",
       "       [0.4069949 ],\n",
       "       [0.10386123]], dtype=float32)"
      ]
     },
     "execution_count": 25,
     "metadata": {},
     "output_type": "execute_result"
    }
   ],
   "source": [
    "model.predict(X_pred_preprocessed)"
   ]
  },
  {
   "cell_type": "code",
   "execution_count": 26,
   "id": "ab6a1cdd",
   "metadata": {},
   "outputs": [
    {
     "name": "stdout",
     "output_type": "stream",
     "text": [
      "\u001b[1m42/42\u001b[0m \u001b[32m━━━━━━━━━━━━━━━━━━━━\u001b[0m\u001b[37m\u001b[0m \u001b[1m0s\u001b[0m 1ms/step\n"
     ]
    }
   ],
   "source": [
    "df[\"y_pred\"] = model.predict(X_pred_preprocessed)"
   ]
  },
  {
   "cell_type": "code",
   "execution_count": 27,
   "id": "bbecc48e",
   "metadata": {},
   "outputs": [
    {
     "data": {
      "text/html": [
       "<div>\n",
       "<style scoped>\n",
       "    .dataframe tbody tr th:only-of-type {\n",
       "        vertical-align: middle;\n",
       "    }\n",
       "\n",
       "    .dataframe tbody tr th {\n",
       "        vertical-align: top;\n",
       "    }\n",
       "\n",
       "    .dataframe thead th {\n",
       "        text-align: right;\n",
       "    }\n",
       "</style>\n",
       "<table border=\"1\" class=\"dataframe\">\n",
       "  <thead>\n",
       "    <tr style=\"text-align: right;\">\n",
       "      <th></th>\n",
       "      <th>Unnamed: 0</th>\n",
       "      <th>state</th>\n",
       "      <th>funding_status</th>\n",
       "      <th>revenue_range</th>\n",
       "      <th>no_employees</th>\n",
       "      <th>no_founders</th>\n",
       "      <th>industry_groups</th>\n",
       "      <th>website</th>\n",
       "      <th>phone</th>\n",
       "      <th>email</th>\n",
       "      <th>...</th>\n",
       "      <th>has_series_e</th>\n",
       "      <th>has_angel</th>\n",
       "      <th>has_debt_financing</th>\n",
       "      <th>has_grant</th>\n",
       "      <th>has_corporate_round</th>\n",
       "      <th>has_series_x</th>\n",
       "      <th>has_ico</th>\n",
       "      <th>total_funding_usd</th>\n",
       "      <th>y</th>\n",
       "      <th>y_pred</th>\n",
       "    </tr>\n",
       "  </thead>\n",
       "  <tbody>\n",
       "    <tr>\n",
       "      <th>0</th>\n",
       "      <td>0</td>\n",
       "      <td>Bayern</td>\n",
       "      <td>Early Stage Venture</td>\n",
       "      <td>$100M to $500M</td>\n",
       "      <td>251-500</td>\n",
       "      <td>5.0</td>\n",
       "      <td>Retail and E-commerce</td>\n",
       "      <td>1</td>\n",
       "      <td>0</td>\n",
       "      <td>1</td>\n",
       "      <td>...</td>\n",
       "      <td>0</td>\n",
       "      <td>0</td>\n",
       "      <td>0</td>\n",
       "      <td>0</td>\n",
       "      <td>0</td>\n",
       "      <td>1</td>\n",
       "      <td>0</td>\n",
       "      <td>67922929.0</td>\n",
       "      <td>2</td>\n",
       "      <td>0.961144</td>\n",
       "    </tr>\n",
       "    <tr>\n",
       "      <th>4</th>\n",
       "      <td>4</td>\n",
       "      <td>Nordrhein-Westfalen</td>\n",
       "      <td>Early Stage Venture</td>\n",
       "      <td>$50M to $100M</td>\n",
       "      <td>251-500</td>\n",
       "      <td>3.0</td>\n",
       "      <td>Technology and Software</td>\n",
       "      <td>1</td>\n",
       "      <td>0</td>\n",
       "      <td>1</td>\n",
       "      <td>...</td>\n",
       "      <td>0</td>\n",
       "      <td>0</td>\n",
       "      <td>0</td>\n",
       "      <td>0</td>\n",
       "      <td>0</td>\n",
       "      <td>0</td>\n",
       "      <td>0</td>\n",
       "      <td>73000000.0</td>\n",
       "      <td>2</td>\n",
       "      <td>0.954702</td>\n",
       "    </tr>\n",
       "    <tr>\n",
       "      <th>8</th>\n",
       "      <td>8</td>\n",
       "      <td>Berlin</td>\n",
       "      <td>Early Stage Venture</td>\n",
       "      <td>$1M to $10M</td>\n",
       "      <td>51-100</td>\n",
       "      <td>2.0</td>\n",
       "      <td>Technology and Software</td>\n",
       "      <td>1</td>\n",
       "      <td>0</td>\n",
       "      <td>1</td>\n",
       "      <td>...</td>\n",
       "      <td>0</td>\n",
       "      <td>0</td>\n",
       "      <td>0</td>\n",
       "      <td>0</td>\n",
       "      <td>0</td>\n",
       "      <td>1</td>\n",
       "      <td>0</td>\n",
       "      <td>40196721.0</td>\n",
       "      <td>2</td>\n",
       "      <td>0.649737</td>\n",
       "    </tr>\n",
       "    <tr>\n",
       "      <th>9</th>\n",
       "      <td>9</td>\n",
       "      <td>Berlin</td>\n",
       "      <td>Seed</td>\n",
       "      <td>Less than $1M</td>\n",
       "      <td>101-250</td>\n",
       "      <td>3.0</td>\n",
       "      <td>Technology and Software</td>\n",
       "      <td>1</td>\n",
       "      <td>1</td>\n",
       "      <td>1</td>\n",
       "      <td>...</td>\n",
       "      <td>0</td>\n",
       "      <td>0</td>\n",
       "      <td>0</td>\n",
       "      <td>0</td>\n",
       "      <td>0</td>\n",
       "      <td>0</td>\n",
       "      <td>0</td>\n",
       "      <td>95000000.0</td>\n",
       "      <td>2</td>\n",
       "      <td>0.379408</td>\n",
       "    </tr>\n",
       "    <tr>\n",
       "      <th>13</th>\n",
       "      <td>13</td>\n",
       "      <td>Nordrhein-Westfalen</td>\n",
       "      <td>Early Stage Venture</td>\n",
       "      <td>$10M to $50M</td>\n",
       "      <td>101-250</td>\n",
       "      <td>1.0</td>\n",
       "      <td>Retail and E-commerce</td>\n",
       "      <td>1</td>\n",
       "      <td>1</td>\n",
       "      <td>0</td>\n",
       "      <td>...</td>\n",
       "      <td>0</td>\n",
       "      <td>0</td>\n",
       "      <td>0</td>\n",
       "      <td>0</td>\n",
       "      <td>0</td>\n",
       "      <td>1</td>\n",
       "      <td>0</td>\n",
       "      <td>116787884.0</td>\n",
       "      <td>2</td>\n",
       "      <td>0.923170</td>\n",
       "    </tr>\n",
       "    <tr>\n",
       "      <th>...</th>\n",
       "      <td>...</td>\n",
       "      <td>...</td>\n",
       "      <td>...</td>\n",
       "      <td>...</td>\n",
       "      <td>...</td>\n",
       "      <td>...</td>\n",
       "      <td>...</td>\n",
       "      <td>...</td>\n",
       "      <td>...</td>\n",
       "      <td>...</td>\n",
       "      <td>...</td>\n",
       "      <td>...</td>\n",
       "      <td>...</td>\n",
       "      <td>...</td>\n",
       "      <td>...</td>\n",
       "      <td>...</td>\n",
       "      <td>...</td>\n",
       "      <td>...</td>\n",
       "      <td>...</td>\n",
       "      <td>...</td>\n",
       "      <td>...</td>\n",
       "    </tr>\n",
       "    <tr>\n",
       "      <th>2169</th>\n",
       "      <td>2180</td>\n",
       "      <td>Baden-Wurttemberg</td>\n",
       "      <td>Seed</td>\n",
       "      <td>$1M to $10M</td>\n",
       "      <td>11-50</td>\n",
       "      <td>1.0</td>\n",
       "      <td>Technology and Software</td>\n",
       "      <td>1</td>\n",
       "      <td>1</td>\n",
       "      <td>1</td>\n",
       "      <td>...</td>\n",
       "      <td>0</td>\n",
       "      <td>0</td>\n",
       "      <td>0</td>\n",
       "      <td>0</td>\n",
       "      <td>0</td>\n",
       "      <td>0</td>\n",
       "      <td>0</td>\n",
       "      <td>27284.0</td>\n",
       "      <td>2</td>\n",
       "      <td>0.784431</td>\n",
       "    </tr>\n",
       "    <tr>\n",
       "      <th>2170</th>\n",
       "      <td>2181</td>\n",
       "      <td>Hessen</td>\n",
       "      <td>Seed</td>\n",
       "      <td>Less than $1M</td>\n",
       "      <td>11-50</td>\n",
       "      <td>1.0</td>\n",
       "      <td>Business Services</td>\n",
       "      <td>1</td>\n",
       "      <td>1</td>\n",
       "      <td>1</td>\n",
       "      <td>...</td>\n",
       "      <td>0</td>\n",
       "      <td>0</td>\n",
       "      <td>0</td>\n",
       "      <td>1</td>\n",
       "      <td>0</td>\n",
       "      <td>0</td>\n",
       "      <td>0</td>\n",
       "      <td>81868.0</td>\n",
       "      <td>2</td>\n",
       "      <td>0.649491</td>\n",
       "    </tr>\n",
       "    <tr>\n",
       "      <th>2173</th>\n",
       "      <td>2184</td>\n",
       "      <td>Berlin</td>\n",
       "      <td>Seed</td>\n",
       "      <td>$1M to $10M</td>\n",
       "      <td>11-50</td>\n",
       "      <td>1.0</td>\n",
       "      <td>Technology and Software</td>\n",
       "      <td>1</td>\n",
       "      <td>0</td>\n",
       "      <td>1</td>\n",
       "      <td>...</td>\n",
       "      <td>0</td>\n",
       "      <td>0</td>\n",
       "      <td>0</td>\n",
       "      <td>0</td>\n",
       "      <td>0</td>\n",
       "      <td>0</td>\n",
       "      <td>0</td>\n",
       "      <td>145515.0</td>\n",
       "      <td>2</td>\n",
       "      <td>0.877141</td>\n",
       "    </tr>\n",
       "    <tr>\n",
       "      <th>2174</th>\n",
       "      <td>2185</td>\n",
       "      <td>Hessen</td>\n",
       "      <td>Seed</td>\n",
       "      <td>$1M to $10M</td>\n",
       "      <td>11-50</td>\n",
       "      <td>2.0</td>\n",
       "      <td>Consumer Products</td>\n",
       "      <td>1</td>\n",
       "      <td>0</td>\n",
       "      <td>1</td>\n",
       "      <td>...</td>\n",
       "      <td>0</td>\n",
       "      <td>0</td>\n",
       "      <td>0</td>\n",
       "      <td>0</td>\n",
       "      <td>0</td>\n",
       "      <td>0</td>\n",
       "      <td>0</td>\n",
       "      <td>75000.0</td>\n",
       "      <td>2</td>\n",
       "      <td>0.406995</td>\n",
       "    </tr>\n",
       "    <tr>\n",
       "      <th>2176</th>\n",
       "      <td>2187</td>\n",
       "      <td>Berlin</td>\n",
       "      <td>Seed</td>\n",
       "      <td>$1M to $10M</td>\n",
       "      <td>11-50</td>\n",
       "      <td>1.0</td>\n",
       "      <td>Telecommunications and Internet Services</td>\n",
       "      <td>1</td>\n",
       "      <td>0</td>\n",
       "      <td>0</td>\n",
       "      <td>...</td>\n",
       "      <td>0</td>\n",
       "      <td>0</td>\n",
       "      <td>0</td>\n",
       "      <td>0</td>\n",
       "      <td>0</td>\n",
       "      <td>0</td>\n",
       "      <td>0</td>\n",
       "      <td>50000.0</td>\n",
       "      <td>2</td>\n",
       "      <td>0.103861</td>\n",
       "    </tr>\n",
       "  </tbody>\n",
       "</table>\n",
       "<p>1323 rows × 37 columns</p>\n",
       "</div>"
      ],
      "text/plain": [
       "      Unnamed: 0                 state       funding_status   revenue_range  \\\n",
       "0              0                Bayern  Early Stage Venture  $100M to $500M   \n",
       "4              4   Nordrhein-Westfalen  Early Stage Venture   $50M to $100M   \n",
       "8              8                Berlin  Early Stage Venture     $1M to $10M   \n",
       "9              9                Berlin                 Seed   Less than $1M   \n",
       "13            13   Nordrhein-Westfalen  Early Stage Venture    $10M to $50M   \n",
       "...          ...                   ...                  ...             ...   \n",
       "2169        2180     Baden-Wurttemberg                 Seed     $1M to $10M   \n",
       "2170        2181                Hessen                 Seed   Less than $1M   \n",
       "2173        2184                Berlin                 Seed     $1M to $10M   \n",
       "2174        2185                Hessen                 Seed     $1M to $10M   \n",
       "2176        2187                Berlin                 Seed     $1M to $10M   \n",
       "\n",
       "     no_employees  no_founders                           industry_groups  \\\n",
       "0         251-500          5.0                     Retail and E-commerce   \n",
       "4         251-500          3.0                   Technology and Software   \n",
       "8          51-100          2.0                   Technology and Software   \n",
       "9         101-250          3.0                   Technology and Software   \n",
       "13        101-250          1.0                     Retail and E-commerce   \n",
       "...           ...          ...                                       ...   \n",
       "2169        11-50          1.0                   Technology and Software   \n",
       "2170        11-50          1.0                         Business Services   \n",
       "2173        11-50          1.0                   Technology and Software   \n",
       "2174        11-50          2.0                         Consumer Products   \n",
       "2176        11-50          1.0  Telecommunications and Internet Services   \n",
       "\n",
       "      website  phone  email  ...  has_series_e  has_angel  has_debt_financing  \\\n",
       "0           1      0      1  ...             0          0                   0   \n",
       "4           1      0      1  ...             0          0                   0   \n",
       "8           1      0      1  ...             0          0                   0   \n",
       "9           1      1      1  ...             0          0                   0   \n",
       "13          1      1      0  ...             0          0                   0   \n",
       "...       ...    ...    ...  ...           ...        ...                 ...   \n",
       "2169        1      1      1  ...             0          0                   0   \n",
       "2170        1      1      1  ...             0          0                   0   \n",
       "2173        1      0      1  ...             0          0                   0   \n",
       "2174        1      0      1  ...             0          0                   0   \n",
       "2176        1      0      0  ...             0          0                   0   \n",
       "\n",
       "      has_grant  has_corporate_round  has_series_x  has_ico  \\\n",
       "0             0                    0             1        0   \n",
       "4             0                    0             0        0   \n",
       "8             0                    0             1        0   \n",
       "9             0                    0             0        0   \n",
       "13            0                    0             1        0   \n",
       "...         ...                  ...           ...      ...   \n",
       "2169          0                    0             0        0   \n",
       "2170          1                    0             0        0   \n",
       "2173          0                    0             0        0   \n",
       "2174          0                    0             0        0   \n",
       "2176          0                    0             0        0   \n",
       "\n",
       "      total_funding_usd  y    y_pred  \n",
       "0            67922929.0  2  0.961144  \n",
       "4            73000000.0  2  0.954702  \n",
       "8            40196721.0  2  0.649737  \n",
       "9            95000000.0  2  0.379408  \n",
       "13          116787884.0  2  0.923170  \n",
       "...                 ... ..       ...  \n",
       "2169            27284.0  2  0.784431  \n",
       "2170            81868.0  2  0.649491  \n",
       "2173           145515.0  2  0.877141  \n",
       "2174            75000.0  2  0.406995  \n",
       "2176            50000.0  2  0.103861  \n",
       "\n",
       "[1323 rows x 37 columns]"
      ]
     },
     "execution_count": 27,
     "metadata": {},
     "output_type": "execute_result"
    }
   ],
   "source": [
    "df"
   ]
  },
  {
   "cell_type": "code",
   "execution_count": 28,
   "id": "5a080139",
   "metadata": {},
   "outputs": [],
   "source": [
    "df.to_csv(\"../raw_data/predictions.csv\")"
   ]
  },
  {
   "cell_type": "code",
   "execution_count": 31,
   "id": "9042ce4a",
   "metadata": {},
   "outputs": [],
   "source": [
    "model.save(\"dummy_model.keras\")"
   ]
  },
  {
   "cell_type": "code",
   "execution_count": 32,
   "id": "5b727d0f",
   "metadata": {},
   "outputs": [],
   "source": [
    "new_df = pd.read_csv(\"../raw_data/new_df2.csv\")"
   ]
  },
  {
   "cell_type": "code",
   "execution_count": 34,
   "id": "f256a763",
   "metadata": {},
   "outputs": [],
   "source": [
    "new_df[\"old_y\"] = data[\"y\"]"
   ]
  },
  {
   "cell_type": "code",
   "execution_count": 37,
   "id": "0e362566",
   "metadata": {},
   "outputs": [
    {
     "data": {
      "text/plain": [
       "0       Venture - Series Unknown\n",
       "1                       Series B\n",
       "2                       Series C\n",
       "3                       Series C\n",
       "4                       Series B\n",
       "                  ...           \n",
       "2184                        Seed\n",
       "2185                        Seed\n",
       "2186                        Seed\n",
       "2187                        Seed\n",
       "2188                         M&A\n",
       "Name: funding_status, Length: 2189, dtype: object"
      ]
     },
     "execution_count": 37,
     "metadata": {},
     "output_type": "execute_result"
    }
   ],
   "source": [
    "new_df.funding_status"
   ]
  },
  {
   "cell_type": "code",
   "execution_count": null,
   "id": "77ed4f96",
   "metadata": {},
   "outputs": [],
   "source": []
  }
 ],
 "metadata": {
  "kernelspec": {
   "display_name": "Python 3 (ipykernel)",
   "language": "python",
   "name": "python3"
  },
  "language_info": {
   "codemirror_mode": {
    "name": "ipython",
    "version": 3
   },
   "file_extension": ".py",
   "mimetype": "text/x-python",
   "name": "python",
   "nbconvert_exporter": "python",
   "pygments_lexer": "ipython3",
   "version": "3.10.6"
  },
  "toc": {
   "base_numbering": 1,
   "nav_menu": {},
   "number_sections": true,
   "sideBar": true,
   "skip_h1_title": false,
   "title_cell": "Table of Contents",
   "title_sidebar": "Contents",
   "toc_cell": false,
   "toc_position": {},
   "toc_section_display": true,
   "toc_window_display": false
  }
 },
 "nbformat": 4,
 "nbformat_minor": 5
}
