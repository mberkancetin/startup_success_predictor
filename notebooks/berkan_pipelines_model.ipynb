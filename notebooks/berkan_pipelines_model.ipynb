{
 "cells": [
  {
   "cell_type": "code",
   "execution_count": 1,
   "id": "62ec2760",
   "metadata": {},
   "outputs": [],
   "source": [
    "import matplotlib.pyplot as plt\n",
    "import numpy as np\n",
    "import pandas as pd\n",
    "import seaborn as sns\n",
    "\n",
    "from scipy import stats\n",
    "from tempfile import mkdtemp\n",
    "from shutil import rmtree\n",
    "\n",
    "\n",
    "from sklearn import set_config\n",
    "from sklearn.base import BaseEstimator, TransformerMixin\n",
    "from sklearn.compose import make_column_transformer, make_column_selector\n",
    "from sklearn.ensemble import AdaBoostRegressor, VotingRegressor, GradientBoostingRegressor, StackingRegressor, RandomForestRegressor\n",
    "from sklearn.feature_selection import SelectPercentile, mutual_info_regression, VarianceThreshold, SelectFromModel\n",
    "from sklearn.impute import SimpleImputer, KNNImputer\n",
    "from sklearn.linear_model import Ridge, LinearRegression\n",
    "from sklearn.metrics import make_scorer, mean_squared_error, mean_squared_log_error\n",
    "from sklearn.model_selection import train_test_split, cross_val_score, GridSearchCV, RandomizedSearchCV\n",
    "from sklearn.neighbors import KNeighborsRegressor\n",
    "from sklearn.pipeline import make_pipeline\n",
    "from sklearn.preprocessing import MinMaxScaler, OneHotEncoder, OrdinalEncoder, StandardScaler, RobustScaler\n",
    "from sklearn.svm import SVR\n",
    "from sklearn.tree import DecisionTreeRegressor"
   ]
  },
  {
   "cell_type": "code",
   "execution_count": 2,
   "id": "c9914c7f",
   "metadata": {},
   "outputs": [],
   "source": [
    "data = pd.read_csv(\"../raw_data/X_y_data2.csv\")\n",
    "data = data[data.y < 2]\n",
    "X = data.iloc[:, :-2]\n",
    "y = data.iloc[:, -2:]"
   ]
  },
  {
   "cell_type": "code",
   "execution_count": 3,
   "id": "03bac606",
   "metadata": {},
   "outputs": [],
   "source": [
    "one_hot_category = [\"state\", \"funding_status\", \"industry_groups\", 'private_ipo', ]\n",
    "ordinal_category = [\"no_employees\", \"revenue_range\"]\n",
    "numerical_features = ['founded_year', 'private_ipo', 'website', 'phone', \"no_founders\",\n",
    "       'email', 'linkedin', 'twitter', 'facebook', 'no_investors', 'no_fund_rounds', 'operting_status',\n",
    "       'no_sub_orgs', 'has_preseed', 'has_seed', 'has_series_a', 'has_series_b', 'has_series_c',\n",
    "       'has_series_d', 'has_series_e', 'has_angel', 'has_debt_financing',\n",
    "       'has_grant', 'has_corporate_round', 'has_series_x']"
   ]
  },
  {
   "cell_type": "code",
   "execution_count": 4,
   "id": "1053e937",
   "metadata": {},
   "outputs": [],
   "source": [
    "no_employees_ordinal = [\n",
    "    '11-50', '51-100', '101-250', '251-500', '501-1000', '1001-5000', '5001-10000', '10001+'\n",
    "]"
   ]
  },
  {
   "cell_type": "code",
   "execution_count": 5,
   "id": "ad5334b8",
   "metadata": {},
   "outputs": [],
   "source": [
    "revenue_range_ordinal = [\n",
    "    'Less than $1M', '$1M to $10M', '$10M to $50M', '$50M to $100M', '$100M to $500M', '$500M to $1B', '$1B to $10B', '$10B+'\n",
    "]"
   ]
  },
  {
   "cell_type": "code",
   "execution_count": 6,
   "id": "adcf8fdf",
   "metadata": {},
   "outputs": [],
   "source": [
    "feat_ordinal_dict = {\n",
    "    \"no_employees\": no_employees_ordinal,\n",
    "    \"revenue_range\": revenue_range_ordinal\n",
    "}"
   ]
  },
  {
   "cell_type": "code",
   "execution_count": 7,
   "id": "8c92b040",
   "metadata": {},
   "outputs": [
    {
     "data": {
      "text/html": [
       "<style>#sk-container-id-1 {color: black;}#sk-container-id-1 pre{padding: 0;}#sk-container-id-1 div.sk-toggleable {background-color: white;}#sk-container-id-1 label.sk-toggleable__label {cursor: pointer;display: block;width: 100%;margin-bottom: 0;padding: 0.3em;box-sizing: border-box;text-align: center;}#sk-container-id-1 label.sk-toggleable__label-arrow:before {content: \"▸\";float: left;margin-right: 0.25em;color: #696969;}#sk-container-id-1 label.sk-toggleable__label-arrow:hover:before {color: black;}#sk-container-id-1 div.sk-estimator:hover label.sk-toggleable__label-arrow:before {color: black;}#sk-container-id-1 div.sk-toggleable__content {max-height: 0;max-width: 0;overflow: hidden;text-align: left;background-color: #f0f8ff;}#sk-container-id-1 div.sk-toggleable__content pre {margin: 0.2em;color: black;border-radius: 0.25em;background-color: #f0f8ff;}#sk-container-id-1 input.sk-toggleable__control:checked~div.sk-toggleable__content {max-height: 200px;max-width: 100%;overflow: auto;}#sk-container-id-1 input.sk-toggleable__control:checked~label.sk-toggleable__label-arrow:before {content: \"▾\";}#sk-container-id-1 div.sk-estimator input.sk-toggleable__control:checked~label.sk-toggleable__label {background-color: #d4ebff;}#sk-container-id-1 div.sk-label input.sk-toggleable__control:checked~label.sk-toggleable__label {background-color: #d4ebff;}#sk-container-id-1 input.sk-hidden--visually {border: 0;clip: rect(1px 1px 1px 1px);clip: rect(1px, 1px, 1px, 1px);height: 1px;margin: -1px;overflow: hidden;padding: 0;position: absolute;width: 1px;}#sk-container-id-1 div.sk-estimator {font-family: monospace;background-color: #f0f8ff;border: 1px dotted black;border-radius: 0.25em;box-sizing: border-box;margin-bottom: 0.5em;}#sk-container-id-1 div.sk-estimator:hover {background-color: #d4ebff;}#sk-container-id-1 div.sk-parallel-item::after {content: \"\";width: 100%;border-bottom: 1px solid gray;flex-grow: 1;}#sk-container-id-1 div.sk-label:hover label.sk-toggleable__label {background-color: #d4ebff;}#sk-container-id-1 div.sk-serial::before {content: \"\";position: absolute;border-left: 1px solid gray;box-sizing: border-box;top: 0;bottom: 0;left: 50%;z-index: 0;}#sk-container-id-1 div.sk-serial {display: flex;flex-direction: column;align-items: center;background-color: white;padding-right: 0.2em;padding-left: 0.2em;position: relative;}#sk-container-id-1 div.sk-item {position: relative;z-index: 1;}#sk-container-id-1 div.sk-parallel {display: flex;align-items: stretch;justify-content: center;background-color: white;position: relative;}#sk-container-id-1 div.sk-item::before, #sk-container-id-1 div.sk-parallel-item::before {content: \"\";position: absolute;border-left: 1px solid gray;box-sizing: border-box;top: 0;bottom: 0;left: 50%;z-index: -1;}#sk-container-id-1 div.sk-parallel-item {display: flex;flex-direction: column;z-index: 1;position: relative;background-color: white;}#sk-container-id-1 div.sk-parallel-item:first-child::after {align-self: flex-end;width: 50%;}#sk-container-id-1 div.sk-parallel-item:last-child::after {align-self: flex-start;width: 50%;}#sk-container-id-1 div.sk-parallel-item:only-child::after {width: 0;}#sk-container-id-1 div.sk-dashed-wrapped {border: 1px dashed gray;margin: 0 0.4em 0.5em 0.4em;box-sizing: border-box;padding-bottom: 0.4em;background-color: white;}#sk-container-id-1 div.sk-label label {font-family: monospace;font-weight: bold;display: inline-block;line-height: 1.2em;}#sk-container-id-1 div.sk-label-container {text-align: center;}#sk-container-id-1 div.sk-container {/* jupyter's `normalize.less` sets `[hidden] { display: none; }` but bootstrap.min.css set `[hidden] { display: none !important; }` so we also need the `!important` here to be able to override the default hidden behavior on the sphinx rendered scikit-learn.org. See: https://github.com/scikit-learn/scikit-learn/issues/21755 */display: inline-block !important;position: relative;}#sk-container-id-1 div.sk-text-repr-fallback {display: none;}</style><div id=\"sk-container-id-1\" class=\"sk-top-container\"><div class=\"sk-text-repr-fallback\"><pre>Pipeline(steps=[(&#x27;simpleimputer&#x27;, SimpleImputer(strategy=&#x27;most_frequent&#x27;)),\n",
       "                (&#x27;ordinalencoder&#x27;,\n",
       "                 OrdinalEncoder(categories=[[&#x27;11-50&#x27;, &#x27;51-100&#x27;, &#x27;101-250&#x27;,\n",
       "                                             &#x27;251-500&#x27;, &#x27;501-1000&#x27;, &#x27;1001-5000&#x27;,\n",
       "                                             &#x27;5001-10000&#x27;, &#x27;10001+&#x27;],\n",
       "                                            [&#x27;Less than $1M&#x27;, &#x27;$1M to $10M&#x27;,\n",
       "                                             &#x27;$10M to $50M&#x27;, &#x27;$50M to $100M&#x27;,\n",
       "                                             &#x27;$100M to $500M&#x27;, &#x27;$500M to $1B&#x27;,\n",
       "                                             &#x27;$1B to $10B&#x27;, &#x27;$10B+&#x27;]],\n",
       "                                dtype=&lt;class &#x27;numpy.int64&#x27;&gt;)),\n",
       "                (&#x27;minmaxscaler&#x27;, MinMaxScaler())])</pre><b>In a Jupyter environment, please rerun this cell to show the HTML representation or trust the notebook. <br />On GitHub, the HTML representation is unable to render, please try loading this page with nbviewer.org.</b></div><div class=\"sk-container\" hidden><div class=\"sk-item sk-dashed-wrapped\"><div class=\"sk-label-container\"><div class=\"sk-label sk-toggleable\"><input class=\"sk-toggleable__control sk-hidden--visually\" id=\"sk-estimator-id-1\" type=\"checkbox\" ><label for=\"sk-estimator-id-1\" class=\"sk-toggleable__label sk-toggleable__label-arrow\">Pipeline</label><div class=\"sk-toggleable__content\"><pre>Pipeline(steps=[(&#x27;simpleimputer&#x27;, SimpleImputer(strategy=&#x27;most_frequent&#x27;)),\n",
       "                (&#x27;ordinalencoder&#x27;,\n",
       "                 OrdinalEncoder(categories=[[&#x27;11-50&#x27;, &#x27;51-100&#x27;, &#x27;101-250&#x27;,\n",
       "                                             &#x27;251-500&#x27;, &#x27;501-1000&#x27;, &#x27;1001-5000&#x27;,\n",
       "                                             &#x27;5001-10000&#x27;, &#x27;10001+&#x27;],\n",
       "                                            [&#x27;Less than $1M&#x27;, &#x27;$1M to $10M&#x27;,\n",
       "                                             &#x27;$10M to $50M&#x27;, &#x27;$50M to $100M&#x27;,\n",
       "                                             &#x27;$100M to $500M&#x27;, &#x27;$500M to $1B&#x27;,\n",
       "                                             &#x27;$1B to $10B&#x27;, &#x27;$10B+&#x27;]],\n",
       "                                dtype=&lt;class &#x27;numpy.int64&#x27;&gt;)),\n",
       "                (&#x27;minmaxscaler&#x27;, MinMaxScaler())])</pre></div></div></div><div class=\"sk-serial\"><div class=\"sk-item\"><div class=\"sk-estimator sk-toggleable\"><input class=\"sk-toggleable__control sk-hidden--visually\" id=\"sk-estimator-id-2\" type=\"checkbox\" ><label for=\"sk-estimator-id-2\" class=\"sk-toggleable__label sk-toggleable__label-arrow\">SimpleImputer</label><div class=\"sk-toggleable__content\"><pre>SimpleImputer(strategy=&#x27;most_frequent&#x27;)</pre></div></div></div><div class=\"sk-item\"><div class=\"sk-estimator sk-toggleable\"><input class=\"sk-toggleable__control sk-hidden--visually\" id=\"sk-estimator-id-3\" type=\"checkbox\" ><label for=\"sk-estimator-id-3\" class=\"sk-toggleable__label sk-toggleable__label-arrow\">OrdinalEncoder</label><div class=\"sk-toggleable__content\"><pre>OrdinalEncoder(categories=[[&#x27;11-50&#x27;, &#x27;51-100&#x27;, &#x27;101-250&#x27;, &#x27;251-500&#x27;, &#x27;501-1000&#x27;,\n",
       "                            &#x27;1001-5000&#x27;, &#x27;5001-10000&#x27;, &#x27;10001+&#x27;],\n",
       "                           [&#x27;Less than $1M&#x27;, &#x27;$1M to $10M&#x27;, &#x27;$10M to $50M&#x27;,\n",
       "                            &#x27;$50M to $100M&#x27;, &#x27;$100M to $500M&#x27;, &#x27;$500M to $1B&#x27;,\n",
       "                            &#x27;$1B to $10B&#x27;, &#x27;$10B+&#x27;]],\n",
       "               dtype=&lt;class &#x27;numpy.int64&#x27;&gt;)</pre></div></div></div><div class=\"sk-item\"><div class=\"sk-estimator sk-toggleable\"><input class=\"sk-toggleable__control sk-hidden--visually\" id=\"sk-estimator-id-4\" type=\"checkbox\" ><label for=\"sk-estimator-id-4\" class=\"sk-toggleable__label sk-toggleable__label-arrow\">MinMaxScaler</label><div class=\"sk-toggleable__content\"><pre>MinMaxScaler()</pre></div></div></div></div></div></div></div>"
      ],
      "text/plain": [
       "Pipeline(steps=[('simpleimputer', SimpleImputer(strategy='most_frequent')),\n",
       "                ('ordinalencoder',\n",
       "                 OrdinalEncoder(categories=[['11-50', '51-100', '101-250',\n",
       "                                             '251-500', '501-1000', '1001-5000',\n",
       "                                             '5001-10000', '10001+'],\n",
       "                                            ['Less than $1M', '$1M to $10M',\n",
       "                                             '$10M to $50M', '$50M to $100M',\n",
       "                                             '$100M to $500M', '$500M to $1B',\n",
       "                                             '$1B to $10B', '$10B+']],\n",
       "                                dtype=<class 'numpy.int64'>)),\n",
       "                ('minmaxscaler', MinMaxScaler())])"
      ]
     },
     "execution_count": 7,
     "metadata": {},
     "output_type": "execute_result"
    }
   ],
   "source": [
    "encoder_ordinal = OrdinalEncoder(\n",
    "    categories = [feat_ordinal_dict[i] for i in ordinal_category],  \n",
    "    dtype = np.int64\n",
    ")\n",
    "\n",
    "\n",
    "preproc_ordinal = make_pipeline(\n",
    "    SimpleImputer(strategy = \"most_frequent\"),\n",
    "    encoder_ordinal, \n",
    "    MinMaxScaler()\n",
    ")\n",
    "\n",
    "preproc_ordinal"
   ]
  },
  {
   "cell_type": "code",
   "execution_count": 8,
   "id": "ca94b6c0",
   "metadata": {},
   "outputs": [
    {
     "data": {
      "text/html": [
       "<style>#sk-container-id-2 {color: black;}#sk-container-id-2 pre{padding: 0;}#sk-container-id-2 div.sk-toggleable {background-color: white;}#sk-container-id-2 label.sk-toggleable__label {cursor: pointer;display: block;width: 100%;margin-bottom: 0;padding: 0.3em;box-sizing: border-box;text-align: center;}#sk-container-id-2 label.sk-toggleable__label-arrow:before {content: \"▸\";float: left;margin-right: 0.25em;color: #696969;}#sk-container-id-2 label.sk-toggleable__label-arrow:hover:before {color: black;}#sk-container-id-2 div.sk-estimator:hover label.sk-toggleable__label-arrow:before {color: black;}#sk-container-id-2 div.sk-toggleable__content {max-height: 0;max-width: 0;overflow: hidden;text-align: left;background-color: #f0f8ff;}#sk-container-id-2 div.sk-toggleable__content pre {margin: 0.2em;color: black;border-radius: 0.25em;background-color: #f0f8ff;}#sk-container-id-2 input.sk-toggleable__control:checked~div.sk-toggleable__content {max-height: 200px;max-width: 100%;overflow: auto;}#sk-container-id-2 input.sk-toggleable__control:checked~label.sk-toggleable__label-arrow:before {content: \"▾\";}#sk-container-id-2 div.sk-estimator input.sk-toggleable__control:checked~label.sk-toggleable__label {background-color: #d4ebff;}#sk-container-id-2 div.sk-label input.sk-toggleable__control:checked~label.sk-toggleable__label {background-color: #d4ebff;}#sk-container-id-2 input.sk-hidden--visually {border: 0;clip: rect(1px 1px 1px 1px);clip: rect(1px, 1px, 1px, 1px);height: 1px;margin: -1px;overflow: hidden;padding: 0;position: absolute;width: 1px;}#sk-container-id-2 div.sk-estimator {font-family: monospace;background-color: #f0f8ff;border: 1px dotted black;border-radius: 0.25em;box-sizing: border-box;margin-bottom: 0.5em;}#sk-container-id-2 div.sk-estimator:hover {background-color: #d4ebff;}#sk-container-id-2 div.sk-parallel-item::after {content: \"\";width: 100%;border-bottom: 1px solid gray;flex-grow: 1;}#sk-container-id-2 div.sk-label:hover label.sk-toggleable__label {background-color: #d4ebff;}#sk-container-id-2 div.sk-serial::before {content: \"\";position: absolute;border-left: 1px solid gray;box-sizing: border-box;top: 0;bottom: 0;left: 50%;z-index: 0;}#sk-container-id-2 div.sk-serial {display: flex;flex-direction: column;align-items: center;background-color: white;padding-right: 0.2em;padding-left: 0.2em;position: relative;}#sk-container-id-2 div.sk-item {position: relative;z-index: 1;}#sk-container-id-2 div.sk-parallel {display: flex;align-items: stretch;justify-content: center;background-color: white;position: relative;}#sk-container-id-2 div.sk-item::before, #sk-container-id-2 div.sk-parallel-item::before {content: \"\";position: absolute;border-left: 1px solid gray;box-sizing: border-box;top: 0;bottom: 0;left: 50%;z-index: -1;}#sk-container-id-2 div.sk-parallel-item {display: flex;flex-direction: column;z-index: 1;position: relative;background-color: white;}#sk-container-id-2 div.sk-parallel-item:first-child::after {align-self: flex-end;width: 50%;}#sk-container-id-2 div.sk-parallel-item:last-child::after {align-self: flex-start;width: 50%;}#sk-container-id-2 div.sk-parallel-item:only-child::after {width: 0;}#sk-container-id-2 div.sk-dashed-wrapped {border: 1px dashed gray;margin: 0 0.4em 0.5em 0.4em;box-sizing: border-box;padding-bottom: 0.4em;background-color: white;}#sk-container-id-2 div.sk-label label {font-family: monospace;font-weight: bold;display: inline-block;line-height: 1.2em;}#sk-container-id-2 div.sk-label-container {text-align: center;}#sk-container-id-2 div.sk-container {/* jupyter's `normalize.less` sets `[hidden] { display: none; }` but bootstrap.min.css set `[hidden] { display: none !important; }` so we also need the `!important` here to be able to override the default hidden behavior on the sphinx rendered scikit-learn.org. See: https://github.com/scikit-learn/scikit-learn/issues/21755 */display: inline-block !important;position: relative;}#sk-container-id-2 div.sk-text-repr-fallback {display: none;}</style><div id=\"sk-container-id-2\" class=\"sk-top-container\"><div class=\"sk-text-repr-fallback\"><pre>Pipeline(steps=[(&#x27;knnimputer&#x27;, KNNImputer()), (&#x27;minmaxscaler&#x27;, MinMaxScaler())])</pre><b>In a Jupyter environment, please rerun this cell to show the HTML representation or trust the notebook. <br />On GitHub, the HTML representation is unable to render, please try loading this page with nbviewer.org.</b></div><div class=\"sk-container\" hidden><div class=\"sk-item sk-dashed-wrapped\"><div class=\"sk-label-container\"><div class=\"sk-label sk-toggleable\"><input class=\"sk-toggleable__control sk-hidden--visually\" id=\"sk-estimator-id-5\" type=\"checkbox\" ><label for=\"sk-estimator-id-5\" class=\"sk-toggleable__label sk-toggleable__label-arrow\">Pipeline</label><div class=\"sk-toggleable__content\"><pre>Pipeline(steps=[(&#x27;knnimputer&#x27;, KNNImputer()), (&#x27;minmaxscaler&#x27;, MinMaxScaler())])</pre></div></div></div><div class=\"sk-serial\"><div class=\"sk-item\"><div class=\"sk-estimator sk-toggleable\"><input class=\"sk-toggleable__control sk-hidden--visually\" id=\"sk-estimator-id-6\" type=\"checkbox\" ><label for=\"sk-estimator-id-6\" class=\"sk-toggleable__label sk-toggleable__label-arrow\">KNNImputer</label><div class=\"sk-toggleable__content\"><pre>KNNImputer()</pre></div></div></div><div class=\"sk-item\"><div class=\"sk-estimator sk-toggleable\"><input class=\"sk-toggleable__control sk-hidden--visually\" id=\"sk-estimator-id-7\" type=\"checkbox\" ><label for=\"sk-estimator-id-7\" class=\"sk-toggleable__label sk-toggleable__label-arrow\">MinMaxScaler</label><div class=\"sk-toggleable__content\"><pre>MinMaxScaler()</pre></div></div></div></div></div></div></div>"
      ],
      "text/plain": [
       "Pipeline(steps=[('knnimputer', KNNImputer()), ('minmaxscaler', MinMaxScaler())])"
      ]
     },
     "execution_count": 8,
     "metadata": {},
     "output_type": "execute_result"
    }
   ],
   "source": [
    "preproc_min_numerical = make_pipeline(\n",
    "    KNNImputer(),\n",
    "    MinMaxScaler())\n",
    "\n",
    "preproc_min_numerical"
   ]
  },
  {
   "cell_type": "code",
   "execution_count": 9,
   "id": "0807e499",
   "metadata": {},
   "outputs": [
    {
     "data": {
      "text/html": [
       "<style>#sk-container-id-3 {color: black;}#sk-container-id-3 pre{padding: 0;}#sk-container-id-3 div.sk-toggleable {background-color: white;}#sk-container-id-3 label.sk-toggleable__label {cursor: pointer;display: block;width: 100%;margin-bottom: 0;padding: 0.3em;box-sizing: border-box;text-align: center;}#sk-container-id-3 label.sk-toggleable__label-arrow:before {content: \"▸\";float: left;margin-right: 0.25em;color: #696969;}#sk-container-id-3 label.sk-toggleable__label-arrow:hover:before {color: black;}#sk-container-id-3 div.sk-estimator:hover label.sk-toggleable__label-arrow:before {color: black;}#sk-container-id-3 div.sk-toggleable__content {max-height: 0;max-width: 0;overflow: hidden;text-align: left;background-color: #f0f8ff;}#sk-container-id-3 div.sk-toggleable__content pre {margin: 0.2em;color: black;border-radius: 0.25em;background-color: #f0f8ff;}#sk-container-id-3 input.sk-toggleable__control:checked~div.sk-toggleable__content {max-height: 200px;max-width: 100%;overflow: auto;}#sk-container-id-3 input.sk-toggleable__control:checked~label.sk-toggleable__label-arrow:before {content: \"▾\";}#sk-container-id-3 div.sk-estimator input.sk-toggleable__control:checked~label.sk-toggleable__label {background-color: #d4ebff;}#sk-container-id-3 div.sk-label input.sk-toggleable__control:checked~label.sk-toggleable__label {background-color: #d4ebff;}#sk-container-id-3 input.sk-hidden--visually {border: 0;clip: rect(1px 1px 1px 1px);clip: rect(1px, 1px, 1px, 1px);height: 1px;margin: -1px;overflow: hidden;padding: 0;position: absolute;width: 1px;}#sk-container-id-3 div.sk-estimator {font-family: monospace;background-color: #f0f8ff;border: 1px dotted black;border-radius: 0.25em;box-sizing: border-box;margin-bottom: 0.5em;}#sk-container-id-3 div.sk-estimator:hover {background-color: #d4ebff;}#sk-container-id-3 div.sk-parallel-item::after {content: \"\";width: 100%;border-bottom: 1px solid gray;flex-grow: 1;}#sk-container-id-3 div.sk-label:hover label.sk-toggleable__label {background-color: #d4ebff;}#sk-container-id-3 div.sk-serial::before {content: \"\";position: absolute;border-left: 1px solid gray;box-sizing: border-box;top: 0;bottom: 0;left: 50%;z-index: 0;}#sk-container-id-3 div.sk-serial {display: flex;flex-direction: column;align-items: center;background-color: white;padding-right: 0.2em;padding-left: 0.2em;position: relative;}#sk-container-id-3 div.sk-item {position: relative;z-index: 1;}#sk-container-id-3 div.sk-parallel {display: flex;align-items: stretch;justify-content: center;background-color: white;position: relative;}#sk-container-id-3 div.sk-item::before, #sk-container-id-3 div.sk-parallel-item::before {content: \"\";position: absolute;border-left: 1px solid gray;box-sizing: border-box;top: 0;bottom: 0;left: 50%;z-index: -1;}#sk-container-id-3 div.sk-parallel-item {display: flex;flex-direction: column;z-index: 1;position: relative;background-color: white;}#sk-container-id-3 div.sk-parallel-item:first-child::after {align-self: flex-end;width: 50%;}#sk-container-id-3 div.sk-parallel-item:last-child::after {align-self: flex-start;width: 50%;}#sk-container-id-3 div.sk-parallel-item:only-child::after {width: 0;}#sk-container-id-3 div.sk-dashed-wrapped {border: 1px dashed gray;margin: 0 0.4em 0.5em 0.4em;box-sizing: border-box;padding-bottom: 0.4em;background-color: white;}#sk-container-id-3 div.sk-label label {font-family: monospace;font-weight: bold;display: inline-block;line-height: 1.2em;}#sk-container-id-3 div.sk-label-container {text-align: center;}#sk-container-id-3 div.sk-container {/* jupyter's `normalize.less` sets `[hidden] { display: none; }` but bootstrap.min.css set `[hidden] { display: none !important; }` so we also need the `!important` here to be able to override the default hidden behavior on the sphinx rendered scikit-learn.org. See: https://github.com/scikit-learn/scikit-learn/issues/21755 */display: inline-block !important;position: relative;}#sk-container-id-3 div.sk-text-repr-fallback {display: none;}</style><div id=\"sk-container-id-3\" class=\"sk-top-container\"><div class=\"sk-text-repr-fallback\"><pre>Pipeline(steps=[(&#x27;simpleimputer&#x27;, SimpleImputer(strategy=&#x27;most_frequent&#x27;)),\n",
       "                (&#x27;onehotencoder&#x27;, OneHotEncoder(handle_unknown=&#x27;ignore&#x27;))])</pre><b>In a Jupyter environment, please rerun this cell to show the HTML representation or trust the notebook. <br />On GitHub, the HTML representation is unable to render, please try loading this page with nbviewer.org.</b></div><div class=\"sk-container\" hidden><div class=\"sk-item sk-dashed-wrapped\"><div class=\"sk-label-container\"><div class=\"sk-label sk-toggleable\"><input class=\"sk-toggleable__control sk-hidden--visually\" id=\"sk-estimator-id-8\" type=\"checkbox\" ><label for=\"sk-estimator-id-8\" class=\"sk-toggleable__label sk-toggleable__label-arrow\">Pipeline</label><div class=\"sk-toggleable__content\"><pre>Pipeline(steps=[(&#x27;simpleimputer&#x27;, SimpleImputer(strategy=&#x27;most_frequent&#x27;)),\n",
       "                (&#x27;onehotencoder&#x27;, OneHotEncoder(handle_unknown=&#x27;ignore&#x27;))])</pre></div></div></div><div class=\"sk-serial\"><div class=\"sk-item\"><div class=\"sk-estimator sk-toggleable\"><input class=\"sk-toggleable__control sk-hidden--visually\" id=\"sk-estimator-id-9\" type=\"checkbox\" ><label for=\"sk-estimator-id-9\" class=\"sk-toggleable__label sk-toggleable__label-arrow\">SimpleImputer</label><div class=\"sk-toggleable__content\"><pre>SimpleImputer(strategy=&#x27;most_frequent&#x27;)</pre></div></div></div><div class=\"sk-item\"><div class=\"sk-estimator sk-toggleable\"><input class=\"sk-toggleable__control sk-hidden--visually\" id=\"sk-estimator-id-10\" type=\"checkbox\" ><label for=\"sk-estimator-id-10\" class=\"sk-toggleable__label sk-toggleable__label-arrow\">OneHotEncoder</label><div class=\"sk-toggleable__content\"><pre>OneHotEncoder(handle_unknown=&#x27;ignore&#x27;)</pre></div></div></div></div></div></div></div>"
      ],
      "text/plain": [
       "Pipeline(steps=[('simpleimputer', SimpleImputer(strategy='most_frequent')),\n",
       "                ('onehotencoder', OneHotEncoder(handle_unknown='ignore'))])"
      ]
     },
     "execution_count": 9,
     "metadata": {},
     "output_type": "execute_result"
    }
   ],
   "source": [
    "preproc_nominal = make_pipeline(\n",
    "    SimpleImputer(strategy=\"most_frequent\"),\n",
    "    OneHotEncoder(handle_unknown=\"ignore\")\n",
    ")\n",
    "\n",
    "preproc_nominal"
   ]
  },
  {
   "cell_type": "code",
   "execution_count": 10,
   "id": "abee8f32",
   "metadata": {},
   "outputs": [
    {
     "data": {
      "text/html": [
       "<style>#sk-container-id-4 {color: black;}#sk-container-id-4 pre{padding: 0;}#sk-container-id-4 div.sk-toggleable {background-color: white;}#sk-container-id-4 label.sk-toggleable__label {cursor: pointer;display: block;width: 100%;margin-bottom: 0;padding: 0.3em;box-sizing: border-box;text-align: center;}#sk-container-id-4 label.sk-toggleable__label-arrow:before {content: \"▸\";float: left;margin-right: 0.25em;color: #696969;}#sk-container-id-4 label.sk-toggleable__label-arrow:hover:before {color: black;}#sk-container-id-4 div.sk-estimator:hover label.sk-toggleable__label-arrow:before {color: black;}#sk-container-id-4 div.sk-toggleable__content {max-height: 0;max-width: 0;overflow: hidden;text-align: left;background-color: #f0f8ff;}#sk-container-id-4 div.sk-toggleable__content pre {margin: 0.2em;color: black;border-radius: 0.25em;background-color: #f0f8ff;}#sk-container-id-4 input.sk-toggleable__control:checked~div.sk-toggleable__content {max-height: 200px;max-width: 100%;overflow: auto;}#sk-container-id-4 input.sk-toggleable__control:checked~label.sk-toggleable__label-arrow:before {content: \"▾\";}#sk-container-id-4 div.sk-estimator input.sk-toggleable__control:checked~label.sk-toggleable__label {background-color: #d4ebff;}#sk-container-id-4 div.sk-label input.sk-toggleable__control:checked~label.sk-toggleable__label {background-color: #d4ebff;}#sk-container-id-4 input.sk-hidden--visually {border: 0;clip: rect(1px 1px 1px 1px);clip: rect(1px, 1px, 1px, 1px);height: 1px;margin: -1px;overflow: hidden;padding: 0;position: absolute;width: 1px;}#sk-container-id-4 div.sk-estimator {font-family: monospace;background-color: #f0f8ff;border: 1px dotted black;border-radius: 0.25em;box-sizing: border-box;margin-bottom: 0.5em;}#sk-container-id-4 div.sk-estimator:hover {background-color: #d4ebff;}#sk-container-id-4 div.sk-parallel-item::after {content: \"\";width: 100%;border-bottom: 1px solid gray;flex-grow: 1;}#sk-container-id-4 div.sk-label:hover label.sk-toggleable__label {background-color: #d4ebff;}#sk-container-id-4 div.sk-serial::before {content: \"\";position: absolute;border-left: 1px solid gray;box-sizing: border-box;top: 0;bottom: 0;left: 50%;z-index: 0;}#sk-container-id-4 div.sk-serial {display: flex;flex-direction: column;align-items: center;background-color: white;padding-right: 0.2em;padding-left: 0.2em;position: relative;}#sk-container-id-4 div.sk-item {position: relative;z-index: 1;}#sk-container-id-4 div.sk-parallel {display: flex;align-items: stretch;justify-content: center;background-color: white;position: relative;}#sk-container-id-4 div.sk-item::before, #sk-container-id-4 div.sk-parallel-item::before {content: \"\";position: absolute;border-left: 1px solid gray;box-sizing: border-box;top: 0;bottom: 0;left: 50%;z-index: -1;}#sk-container-id-4 div.sk-parallel-item {display: flex;flex-direction: column;z-index: 1;position: relative;background-color: white;}#sk-container-id-4 div.sk-parallel-item:first-child::after {align-self: flex-end;width: 50%;}#sk-container-id-4 div.sk-parallel-item:last-child::after {align-self: flex-start;width: 50%;}#sk-container-id-4 div.sk-parallel-item:only-child::after {width: 0;}#sk-container-id-4 div.sk-dashed-wrapped {border: 1px dashed gray;margin: 0 0.4em 0.5em 0.4em;box-sizing: border-box;padding-bottom: 0.4em;background-color: white;}#sk-container-id-4 div.sk-label label {font-family: monospace;font-weight: bold;display: inline-block;line-height: 1.2em;}#sk-container-id-4 div.sk-label-container {text-align: center;}#sk-container-id-4 div.sk-container {/* jupyter's `normalize.less` sets `[hidden] { display: none; }` but bootstrap.min.css set `[hidden] { display: none !important; }` so we also need the `!important` here to be able to override the default hidden behavior on the sphinx rendered scikit-learn.org. See: https://github.com/scikit-learn/scikit-learn/issues/21755 */display: inline-block !important;position: relative;}#sk-container-id-4 div.sk-text-repr-fallback {display: none;}</style><div id=\"sk-container-id-4\" class=\"sk-top-container\"><div class=\"sk-text-repr-fallback\"><pre>Pipeline(steps=[(&#x27;knnimputer&#x27;, KNNImputer()), (&#x27;robustscaler&#x27;, RobustScaler())])</pre><b>In a Jupyter environment, please rerun this cell to show the HTML representation or trust the notebook. <br />On GitHub, the HTML representation is unable to render, please try loading this page with nbviewer.org.</b></div><div class=\"sk-container\" hidden><div class=\"sk-item sk-dashed-wrapped\"><div class=\"sk-label-container\"><div class=\"sk-label sk-toggleable\"><input class=\"sk-toggleable__control sk-hidden--visually\" id=\"sk-estimator-id-11\" type=\"checkbox\" ><label for=\"sk-estimator-id-11\" class=\"sk-toggleable__label sk-toggleable__label-arrow\">Pipeline</label><div class=\"sk-toggleable__content\"><pre>Pipeline(steps=[(&#x27;knnimputer&#x27;, KNNImputer()), (&#x27;robustscaler&#x27;, RobustScaler())])</pre></div></div></div><div class=\"sk-serial\"><div class=\"sk-item\"><div class=\"sk-estimator sk-toggleable\"><input class=\"sk-toggleable__control sk-hidden--visually\" id=\"sk-estimator-id-12\" type=\"checkbox\" ><label for=\"sk-estimator-id-12\" class=\"sk-toggleable__label sk-toggleable__label-arrow\">KNNImputer</label><div class=\"sk-toggleable__content\"><pre>KNNImputer()</pre></div></div></div><div class=\"sk-item\"><div class=\"sk-estimator sk-toggleable\"><input class=\"sk-toggleable__control sk-hidden--visually\" id=\"sk-estimator-id-13\" type=\"checkbox\" ><label for=\"sk-estimator-id-13\" class=\"sk-toggleable__label sk-toggleable__label-arrow\">RobustScaler</label><div class=\"sk-toggleable__content\"><pre>RobustScaler()</pre></div></div></div></div></div></div></div>"
      ],
      "text/plain": [
       "Pipeline(steps=[('knnimputer', KNNImputer()), ('robustscaler', RobustScaler())])"
      ]
     },
     "execution_count": 10,
     "metadata": {},
     "output_type": "execute_result"
    }
   ],
   "source": [
    "preproc_robust_numerical = make_pipeline(\n",
    "    KNNImputer(),\n",
    "    RobustScaler())\n",
    "\n",
    "preproc_robust_numerical"
   ]
  },
  {
   "cell_type": "code",
   "execution_count": 11,
   "id": "013b5d7c",
   "metadata": {},
   "outputs": [],
   "source": [
    "preproc = make_column_transformer(\n",
    "        (preproc_ordinal, ordinal_category),\n",
    "        (preproc_min_numerical, numerical_features),\n",
    "        (preproc_nominal, one_hot_category),\n",
    "        # (preproc_robust_numerical, robust_category),\n",
    "        remainder=\"drop\"\n",
    ")"
   ]
  },
  {
   "cell_type": "code",
   "execution_count": 12,
   "id": "c3d67668",
   "metadata": {},
   "outputs": [
    {
     "data": {
      "text/html": [
       "<style>#sk-container-id-5 {color: black;}#sk-container-id-5 pre{padding: 0;}#sk-container-id-5 div.sk-toggleable {background-color: white;}#sk-container-id-5 label.sk-toggleable__label {cursor: pointer;display: block;width: 100%;margin-bottom: 0;padding: 0.3em;box-sizing: border-box;text-align: center;}#sk-container-id-5 label.sk-toggleable__label-arrow:before {content: \"▸\";float: left;margin-right: 0.25em;color: #696969;}#sk-container-id-5 label.sk-toggleable__label-arrow:hover:before {color: black;}#sk-container-id-5 div.sk-estimator:hover label.sk-toggleable__label-arrow:before {color: black;}#sk-container-id-5 div.sk-toggleable__content {max-height: 0;max-width: 0;overflow: hidden;text-align: left;background-color: #f0f8ff;}#sk-container-id-5 div.sk-toggleable__content pre {margin: 0.2em;color: black;border-radius: 0.25em;background-color: #f0f8ff;}#sk-container-id-5 input.sk-toggleable__control:checked~div.sk-toggleable__content {max-height: 200px;max-width: 100%;overflow: auto;}#sk-container-id-5 input.sk-toggleable__control:checked~label.sk-toggleable__label-arrow:before {content: \"▾\";}#sk-container-id-5 div.sk-estimator input.sk-toggleable__control:checked~label.sk-toggleable__label {background-color: #d4ebff;}#sk-container-id-5 div.sk-label input.sk-toggleable__control:checked~label.sk-toggleable__label {background-color: #d4ebff;}#sk-container-id-5 input.sk-hidden--visually {border: 0;clip: rect(1px 1px 1px 1px);clip: rect(1px, 1px, 1px, 1px);height: 1px;margin: -1px;overflow: hidden;padding: 0;position: absolute;width: 1px;}#sk-container-id-5 div.sk-estimator {font-family: monospace;background-color: #f0f8ff;border: 1px dotted black;border-radius: 0.25em;box-sizing: border-box;margin-bottom: 0.5em;}#sk-container-id-5 div.sk-estimator:hover {background-color: #d4ebff;}#sk-container-id-5 div.sk-parallel-item::after {content: \"\";width: 100%;border-bottom: 1px solid gray;flex-grow: 1;}#sk-container-id-5 div.sk-label:hover label.sk-toggleable__label {background-color: #d4ebff;}#sk-container-id-5 div.sk-serial::before {content: \"\";position: absolute;border-left: 1px solid gray;box-sizing: border-box;top: 0;bottom: 0;left: 50%;z-index: 0;}#sk-container-id-5 div.sk-serial {display: flex;flex-direction: column;align-items: center;background-color: white;padding-right: 0.2em;padding-left: 0.2em;position: relative;}#sk-container-id-5 div.sk-item {position: relative;z-index: 1;}#sk-container-id-5 div.sk-parallel {display: flex;align-items: stretch;justify-content: center;background-color: white;position: relative;}#sk-container-id-5 div.sk-item::before, #sk-container-id-5 div.sk-parallel-item::before {content: \"\";position: absolute;border-left: 1px solid gray;box-sizing: border-box;top: 0;bottom: 0;left: 50%;z-index: -1;}#sk-container-id-5 div.sk-parallel-item {display: flex;flex-direction: column;z-index: 1;position: relative;background-color: white;}#sk-container-id-5 div.sk-parallel-item:first-child::after {align-self: flex-end;width: 50%;}#sk-container-id-5 div.sk-parallel-item:last-child::after {align-self: flex-start;width: 50%;}#sk-container-id-5 div.sk-parallel-item:only-child::after {width: 0;}#sk-container-id-5 div.sk-dashed-wrapped {border: 1px dashed gray;margin: 0 0.4em 0.5em 0.4em;box-sizing: border-box;padding-bottom: 0.4em;background-color: white;}#sk-container-id-5 div.sk-label label {font-family: monospace;font-weight: bold;display: inline-block;line-height: 1.2em;}#sk-container-id-5 div.sk-label-container {text-align: center;}#sk-container-id-5 div.sk-container {/* jupyter's `normalize.less` sets `[hidden] { display: none; }` but bootstrap.min.css set `[hidden] { display: none !important; }` so we also need the `!important` here to be able to override the default hidden behavior on the sphinx rendered scikit-learn.org. See: https://github.com/scikit-learn/scikit-learn/issues/21755 */display: inline-block !important;position: relative;}#sk-container-id-5 div.sk-text-repr-fallback {display: none;}</style><div id=\"sk-container-id-5\" class=\"sk-top-container\"><div class=\"sk-text-repr-fallback\"><pre>ColumnTransformer(transformers=[(&#x27;pipeline-1&#x27;,\n",
       "                                 Pipeline(steps=[(&#x27;simpleimputer&#x27;,\n",
       "                                                  SimpleImputer(strategy=&#x27;most_frequent&#x27;)),\n",
       "                                                 (&#x27;ordinalencoder&#x27;,\n",
       "                                                  OrdinalEncoder(categories=[[&#x27;11-50&#x27;,\n",
       "                                                                              &#x27;51-100&#x27;,\n",
       "                                                                              &#x27;101-250&#x27;,\n",
       "                                                                              &#x27;251-500&#x27;,\n",
       "                                                                              &#x27;501-1000&#x27;,\n",
       "                                                                              &#x27;1001-5000&#x27;,\n",
       "                                                                              &#x27;5001-10000&#x27;,\n",
       "                                                                              &#x27;10001+&#x27;],\n",
       "                                                                             [&#x27;Less &#x27;\n",
       "                                                                              &#x27;than &#x27;\n",
       "                                                                              &#x27;$1M&#x27;,\n",
       "                                                                              &#x27;$1M &#x27;\n",
       "                                                                              &#x27;to &#x27;\n",
       "                                                                              &#x27;$10M&#x27;,\n",
       "                                                                              &#x27;$10M &#x27;\n",
       "                                                                              &#x27;to &#x27;\n",
       "                                                                              &#x27;$50M&#x27;,\n",
       "                                                                              &#x27;$50M &#x27;\n",
       "                                                                              &#x27;to &#x27;\n",
       "                                                                              &#x27;$100M&#x27;,\n",
       "                                                                              &#x27;$100M &#x27;\n",
       "                                                                              &#x27;to &#x27;\n",
       "                                                                              &#x27;$500M&#x27;,\n",
       "                                                                              &#x27;$500M &#x27;\n",
       "                                                                              &#x27;to &#x27;\n",
       "                                                                              &#x27;...\n",
       "                                  &#x27;has_series_a&#x27;, &#x27;has_series_b&#x27;,\n",
       "                                  &#x27;has_series_c&#x27;, &#x27;has_series_d&#x27;,\n",
       "                                  &#x27;has_series_e&#x27;, &#x27;has_angel&#x27;,\n",
       "                                  &#x27;has_debt_financing&#x27;, &#x27;has_grant&#x27;,\n",
       "                                  &#x27;has_corporate_round&#x27;, &#x27;has_series_x&#x27;]),\n",
       "                                (&#x27;pipeline-3&#x27;,\n",
       "                                 Pipeline(steps=[(&#x27;simpleimputer&#x27;,\n",
       "                                                  SimpleImputer(strategy=&#x27;most_frequent&#x27;)),\n",
       "                                                 (&#x27;onehotencoder&#x27;,\n",
       "                                                  OneHotEncoder(handle_unknown=&#x27;ignore&#x27;))]),\n",
       "                                 [&#x27;state&#x27;, &#x27;funding_status&#x27;, &#x27;industry_groups&#x27;,\n",
       "                                  &#x27;private_ipo&#x27;])])</pre><b>In a Jupyter environment, please rerun this cell to show the HTML representation or trust the notebook. <br />On GitHub, the HTML representation is unable to render, please try loading this page with nbviewer.org.</b></div><div class=\"sk-container\" hidden><div class=\"sk-item sk-dashed-wrapped\"><div class=\"sk-label-container\"><div class=\"sk-label sk-toggleable\"><input class=\"sk-toggleable__control sk-hidden--visually\" id=\"sk-estimator-id-14\" type=\"checkbox\" ><label for=\"sk-estimator-id-14\" class=\"sk-toggleable__label sk-toggleable__label-arrow\">ColumnTransformer</label><div class=\"sk-toggleable__content\"><pre>ColumnTransformer(transformers=[(&#x27;pipeline-1&#x27;,\n",
       "                                 Pipeline(steps=[(&#x27;simpleimputer&#x27;,\n",
       "                                                  SimpleImputer(strategy=&#x27;most_frequent&#x27;)),\n",
       "                                                 (&#x27;ordinalencoder&#x27;,\n",
       "                                                  OrdinalEncoder(categories=[[&#x27;11-50&#x27;,\n",
       "                                                                              &#x27;51-100&#x27;,\n",
       "                                                                              &#x27;101-250&#x27;,\n",
       "                                                                              &#x27;251-500&#x27;,\n",
       "                                                                              &#x27;501-1000&#x27;,\n",
       "                                                                              &#x27;1001-5000&#x27;,\n",
       "                                                                              &#x27;5001-10000&#x27;,\n",
       "                                                                              &#x27;10001+&#x27;],\n",
       "                                                                             [&#x27;Less &#x27;\n",
       "                                                                              &#x27;than &#x27;\n",
       "                                                                              &#x27;$1M&#x27;,\n",
       "                                                                              &#x27;$1M &#x27;\n",
       "                                                                              &#x27;to &#x27;\n",
       "                                                                              &#x27;$10M&#x27;,\n",
       "                                                                              &#x27;$10M &#x27;\n",
       "                                                                              &#x27;to &#x27;\n",
       "                                                                              &#x27;$50M&#x27;,\n",
       "                                                                              &#x27;$50M &#x27;\n",
       "                                                                              &#x27;to &#x27;\n",
       "                                                                              &#x27;$100M&#x27;,\n",
       "                                                                              &#x27;$100M &#x27;\n",
       "                                                                              &#x27;to &#x27;\n",
       "                                                                              &#x27;$500M&#x27;,\n",
       "                                                                              &#x27;$500M &#x27;\n",
       "                                                                              &#x27;to &#x27;\n",
       "                                                                              &#x27;...\n",
       "                                  &#x27;has_series_a&#x27;, &#x27;has_series_b&#x27;,\n",
       "                                  &#x27;has_series_c&#x27;, &#x27;has_series_d&#x27;,\n",
       "                                  &#x27;has_series_e&#x27;, &#x27;has_angel&#x27;,\n",
       "                                  &#x27;has_debt_financing&#x27;, &#x27;has_grant&#x27;,\n",
       "                                  &#x27;has_corporate_round&#x27;, &#x27;has_series_x&#x27;]),\n",
       "                                (&#x27;pipeline-3&#x27;,\n",
       "                                 Pipeline(steps=[(&#x27;simpleimputer&#x27;,\n",
       "                                                  SimpleImputer(strategy=&#x27;most_frequent&#x27;)),\n",
       "                                                 (&#x27;onehotencoder&#x27;,\n",
       "                                                  OneHotEncoder(handle_unknown=&#x27;ignore&#x27;))]),\n",
       "                                 [&#x27;state&#x27;, &#x27;funding_status&#x27;, &#x27;industry_groups&#x27;,\n",
       "                                  &#x27;private_ipo&#x27;])])</pre></div></div></div><div class=\"sk-parallel\"><div class=\"sk-parallel-item\"><div class=\"sk-item\"><div class=\"sk-label-container\"><div class=\"sk-label sk-toggleable\"><input class=\"sk-toggleable__control sk-hidden--visually\" id=\"sk-estimator-id-15\" type=\"checkbox\" ><label for=\"sk-estimator-id-15\" class=\"sk-toggleable__label sk-toggleable__label-arrow\">pipeline-1</label><div class=\"sk-toggleable__content\"><pre>[&#x27;no_employees&#x27;, &#x27;revenue_range&#x27;]</pre></div></div></div><div class=\"sk-serial\"><div class=\"sk-item\"><div class=\"sk-serial\"><div class=\"sk-item\"><div class=\"sk-estimator sk-toggleable\"><input class=\"sk-toggleable__control sk-hidden--visually\" id=\"sk-estimator-id-16\" type=\"checkbox\" ><label for=\"sk-estimator-id-16\" class=\"sk-toggleable__label sk-toggleable__label-arrow\">SimpleImputer</label><div class=\"sk-toggleable__content\"><pre>SimpleImputer(strategy=&#x27;most_frequent&#x27;)</pre></div></div></div><div class=\"sk-item\"><div class=\"sk-estimator sk-toggleable\"><input class=\"sk-toggleable__control sk-hidden--visually\" id=\"sk-estimator-id-17\" type=\"checkbox\" ><label for=\"sk-estimator-id-17\" class=\"sk-toggleable__label sk-toggleable__label-arrow\">OrdinalEncoder</label><div class=\"sk-toggleable__content\"><pre>OrdinalEncoder(categories=[[&#x27;11-50&#x27;, &#x27;51-100&#x27;, &#x27;101-250&#x27;, &#x27;251-500&#x27;, &#x27;501-1000&#x27;,\n",
       "                            &#x27;1001-5000&#x27;, &#x27;5001-10000&#x27;, &#x27;10001+&#x27;],\n",
       "                           [&#x27;Less than $1M&#x27;, &#x27;$1M to $10M&#x27;, &#x27;$10M to $50M&#x27;,\n",
       "                            &#x27;$50M to $100M&#x27;, &#x27;$100M to $500M&#x27;, &#x27;$500M to $1B&#x27;,\n",
       "                            &#x27;$1B to $10B&#x27;, &#x27;$10B+&#x27;]],\n",
       "               dtype=&lt;class &#x27;numpy.int64&#x27;&gt;)</pre></div></div></div><div class=\"sk-item\"><div class=\"sk-estimator sk-toggleable\"><input class=\"sk-toggleable__control sk-hidden--visually\" id=\"sk-estimator-id-18\" type=\"checkbox\" ><label for=\"sk-estimator-id-18\" class=\"sk-toggleable__label sk-toggleable__label-arrow\">MinMaxScaler</label><div class=\"sk-toggleable__content\"><pre>MinMaxScaler()</pre></div></div></div></div></div></div></div></div><div class=\"sk-parallel-item\"><div class=\"sk-item\"><div class=\"sk-label-container\"><div class=\"sk-label sk-toggleable\"><input class=\"sk-toggleable__control sk-hidden--visually\" id=\"sk-estimator-id-19\" type=\"checkbox\" ><label for=\"sk-estimator-id-19\" class=\"sk-toggleable__label sk-toggleable__label-arrow\">pipeline-2</label><div class=\"sk-toggleable__content\"><pre>[&#x27;founded_year&#x27;, &#x27;private_ipo&#x27;, &#x27;website&#x27;, &#x27;phone&#x27;, &#x27;no_founders&#x27;, &#x27;email&#x27;, &#x27;linkedin&#x27;, &#x27;twitter&#x27;, &#x27;facebook&#x27;, &#x27;no_investors&#x27;, &#x27;no_fund_rounds&#x27;, &#x27;operting_status&#x27;, &#x27;no_sub_orgs&#x27;, &#x27;has_preseed&#x27;, &#x27;has_seed&#x27;, &#x27;has_series_a&#x27;, &#x27;has_series_b&#x27;, &#x27;has_series_c&#x27;, &#x27;has_series_d&#x27;, &#x27;has_series_e&#x27;, &#x27;has_angel&#x27;, &#x27;has_debt_financing&#x27;, &#x27;has_grant&#x27;, &#x27;has_corporate_round&#x27;, &#x27;has_series_x&#x27;]</pre></div></div></div><div class=\"sk-serial\"><div class=\"sk-item\"><div class=\"sk-serial\"><div class=\"sk-item\"><div class=\"sk-estimator sk-toggleable\"><input class=\"sk-toggleable__control sk-hidden--visually\" id=\"sk-estimator-id-20\" type=\"checkbox\" ><label for=\"sk-estimator-id-20\" class=\"sk-toggleable__label sk-toggleable__label-arrow\">KNNImputer</label><div class=\"sk-toggleable__content\"><pre>KNNImputer()</pre></div></div></div><div class=\"sk-item\"><div class=\"sk-estimator sk-toggleable\"><input class=\"sk-toggleable__control sk-hidden--visually\" id=\"sk-estimator-id-21\" type=\"checkbox\" ><label for=\"sk-estimator-id-21\" class=\"sk-toggleable__label sk-toggleable__label-arrow\">MinMaxScaler</label><div class=\"sk-toggleable__content\"><pre>MinMaxScaler()</pre></div></div></div></div></div></div></div></div><div class=\"sk-parallel-item\"><div class=\"sk-item\"><div class=\"sk-label-container\"><div class=\"sk-label sk-toggleable\"><input class=\"sk-toggleable__control sk-hidden--visually\" id=\"sk-estimator-id-22\" type=\"checkbox\" ><label for=\"sk-estimator-id-22\" class=\"sk-toggleable__label sk-toggleable__label-arrow\">pipeline-3</label><div class=\"sk-toggleable__content\"><pre>[&#x27;state&#x27;, &#x27;funding_status&#x27;, &#x27;industry_groups&#x27;, &#x27;private_ipo&#x27;]</pre></div></div></div><div class=\"sk-serial\"><div class=\"sk-item\"><div class=\"sk-serial\"><div class=\"sk-item\"><div class=\"sk-estimator sk-toggleable\"><input class=\"sk-toggleable__control sk-hidden--visually\" id=\"sk-estimator-id-23\" type=\"checkbox\" ><label for=\"sk-estimator-id-23\" class=\"sk-toggleable__label sk-toggleable__label-arrow\">SimpleImputer</label><div class=\"sk-toggleable__content\"><pre>SimpleImputer(strategy=&#x27;most_frequent&#x27;)</pre></div></div></div><div class=\"sk-item\"><div class=\"sk-estimator sk-toggleable\"><input class=\"sk-toggleable__control sk-hidden--visually\" id=\"sk-estimator-id-24\" type=\"checkbox\" ><label for=\"sk-estimator-id-24\" class=\"sk-toggleable__label sk-toggleable__label-arrow\">OneHotEncoder</label><div class=\"sk-toggleable__content\"><pre>OneHotEncoder(handle_unknown=&#x27;ignore&#x27;)</pre></div></div></div></div></div></div></div></div></div></div></div></div>"
      ],
      "text/plain": [
       "ColumnTransformer(transformers=[('pipeline-1',\n",
       "                                 Pipeline(steps=[('simpleimputer',\n",
       "                                                  SimpleImputer(strategy='most_frequent')),\n",
       "                                                 ('ordinalencoder',\n",
       "                                                  OrdinalEncoder(categories=[['11-50',\n",
       "                                                                              '51-100',\n",
       "                                                                              '101-250',\n",
       "                                                                              '251-500',\n",
       "                                                                              '501-1000',\n",
       "                                                                              '1001-5000',\n",
       "                                                                              '5001-10000',\n",
       "                                                                              '10001+'],\n",
       "                                                                             ['Less '\n",
       "                                                                              'than '\n",
       "                                                                              '$1M',\n",
       "                                                                              '$1M '\n",
       "                                                                              'to '\n",
       "                                                                              '$10M',\n",
       "                                                                              '$10M '\n",
       "                                                                              'to '\n",
       "                                                                              '$50M',\n",
       "                                                                              '$50M '\n",
       "                                                                              'to '\n",
       "                                                                              '$100M',\n",
       "                                                                              '$100M '\n",
       "                                                                              'to '\n",
       "                                                                              '$500M',\n",
       "                                                                              '$500M '\n",
       "                                                                              'to '\n",
       "                                                                              '...\n",
       "                                  'has_series_a', 'has_series_b',\n",
       "                                  'has_series_c', 'has_series_d',\n",
       "                                  'has_series_e', 'has_angel',\n",
       "                                  'has_debt_financing', 'has_grant',\n",
       "                                  'has_corporate_round', 'has_series_x']),\n",
       "                                ('pipeline-3',\n",
       "                                 Pipeline(steps=[('simpleimputer',\n",
       "                                                  SimpleImputer(strategy='most_frequent')),\n",
       "                                                 ('onehotencoder',\n",
       "                                                  OneHotEncoder(handle_unknown='ignore'))]),\n",
       "                                 ['state', 'funding_status', 'industry_groups',\n",
       "                                  'private_ipo'])])"
      ]
     },
     "execution_count": 12,
     "metadata": {},
     "output_type": "execute_result"
    }
   ],
   "source": [
    "preproc"
   ]
  },
  {
   "cell_type": "code",
   "execution_count": 13,
   "id": "5495a6c8",
   "metadata": {},
   "outputs": [],
   "source": [
    "X_preprocessed = pd.DataFrame(preproc.fit_transform(X, y))"
   ]
  },
  {
   "cell_type": "code",
   "execution_count": 14,
   "id": "5a3c7c0f",
   "metadata": {},
   "outputs": [],
   "source": [
    "X_train, X_test, y_train, y_test = train_test_split(X_preprocessed, y.iloc[:, -1:], test_size=.20, random_state=1)\n"
   ]
  },
  {
   "cell_type": "code",
   "execution_count": 15,
   "id": "a0f6e89b",
   "metadata": {},
   "outputs": [
    {
     "name": "stdout",
     "output_type": "stream",
     "text": [
      "Requirement already satisfied: tensorflow in /home/cetinsky/.pyenv/versions/3.10.6/envs/startup_success_predictor/lib/python3.10/site-packages (2.16.1)\n",
      "Requirement already satisfied: absl-py>=1.0.0 in /home/cetinsky/.pyenv/versions/3.10.6/envs/startup_success_predictor/lib/python3.10/site-packages (from tensorflow) (2.1.0)\n",
      "Requirement already satisfied: astunparse>=1.6.0 in /home/cetinsky/.pyenv/versions/3.10.6/envs/startup_success_predictor/lib/python3.10/site-packages (from tensorflow) (1.6.3)\n",
      "Requirement already satisfied: flatbuffers>=23.5.26 in /home/cetinsky/.pyenv/versions/3.10.6/envs/startup_success_predictor/lib/python3.10/site-packages (from tensorflow) (24.3.25)\n",
      "Requirement already satisfied: gast!=0.5.0,!=0.5.1,!=0.5.2,>=0.2.1 in /home/cetinsky/.pyenv/versions/3.10.6/envs/startup_success_predictor/lib/python3.10/site-packages (from tensorflow) (0.5.4)\n",
      "Requirement already satisfied: google-pasta>=0.1.1 in /home/cetinsky/.pyenv/versions/3.10.6/envs/startup_success_predictor/lib/python3.10/site-packages (from tensorflow) (0.2.0)\n",
      "Requirement already satisfied: h5py>=3.10.0 in /home/cetinsky/.pyenv/versions/3.10.6/envs/startup_success_predictor/lib/python3.10/site-packages (from tensorflow) (3.11.0)\n",
      "Requirement already satisfied: libclang>=13.0.0 in /home/cetinsky/.pyenv/versions/3.10.6/envs/startup_success_predictor/lib/python3.10/site-packages (from tensorflow) (18.1.1)\n",
      "Requirement already satisfied: ml-dtypes~=0.3.1 in /home/cetinsky/.pyenv/versions/3.10.6/envs/startup_success_predictor/lib/python3.10/site-packages (from tensorflow) (0.3.2)\n",
      "Requirement already satisfied: opt-einsum>=2.3.2 in /home/cetinsky/.pyenv/versions/3.10.6/envs/startup_success_predictor/lib/python3.10/site-packages (from tensorflow) (3.3.0)\n",
      "Requirement already satisfied: packaging in /home/cetinsky/.pyenv/versions/3.10.6/envs/startup_success_predictor/lib/python3.10/site-packages (from tensorflow) (24.0)\n",
      "Requirement already satisfied: protobuf!=4.21.0,!=4.21.1,!=4.21.2,!=4.21.3,!=4.21.4,!=4.21.5,<5.0.0dev,>=3.20.3 in /home/cetinsky/.pyenv/versions/3.10.6/envs/startup_success_predictor/lib/python3.10/site-packages (from tensorflow) (4.25.3)\n",
      "Requirement already satisfied: requests<3,>=2.21.0 in /home/cetinsky/.pyenv/versions/3.10.6/envs/startup_success_predictor/lib/python3.10/site-packages (from tensorflow) (2.32.2)\n",
      "Requirement already satisfied: setuptools in /home/cetinsky/.pyenv/versions/3.10.6/envs/startup_success_predictor/lib/python3.10/site-packages (from tensorflow) (63.2.0)\n",
      "Requirement already satisfied: six>=1.12.0 in /home/cetinsky/.pyenv/versions/3.10.6/envs/startup_success_predictor/lib/python3.10/site-packages (from tensorflow) (1.16.0)\n",
      "Requirement already satisfied: termcolor>=1.1.0 in /home/cetinsky/.pyenv/versions/3.10.6/envs/startup_success_predictor/lib/python3.10/site-packages (from tensorflow) (2.4.0)\n",
      "Requirement already satisfied: typing-extensions>=3.6.6 in /home/cetinsky/.pyenv/versions/3.10.6/envs/startup_success_predictor/lib/python3.10/site-packages (from tensorflow) (4.12.0)\n",
      "Requirement already satisfied: wrapt>=1.11.0 in /home/cetinsky/.pyenv/versions/3.10.6/envs/startup_success_predictor/lib/python3.10/site-packages (from tensorflow) (1.16.0)\n",
      "Requirement already satisfied: grpcio<2.0,>=1.24.3 in /home/cetinsky/.pyenv/versions/3.10.6/envs/startup_success_predictor/lib/python3.10/site-packages (from tensorflow) (1.64.0)\n",
      "Requirement already satisfied: tensorboard<2.17,>=2.16 in /home/cetinsky/.pyenv/versions/3.10.6/envs/startup_success_predictor/lib/python3.10/site-packages (from tensorflow) (2.16.2)\n",
      "Requirement already satisfied: keras>=3.0.0 in /home/cetinsky/.pyenv/versions/3.10.6/envs/startup_success_predictor/lib/python3.10/site-packages (from tensorflow) (3.3.3)\n",
      "Requirement already satisfied: tensorflow-io-gcs-filesystem>=0.23.1 in /home/cetinsky/.pyenv/versions/3.10.6/envs/startup_success_predictor/lib/python3.10/site-packages (from tensorflow) (0.37.0)\n",
      "Requirement already satisfied: numpy<2.0.0,>=1.23.5 in /home/cetinsky/.pyenv/versions/3.10.6/envs/startup_success_predictor/lib/python3.10/site-packages (from tensorflow) (1.23.5)\n",
      "Requirement already satisfied: wheel<1.0,>=0.23.0 in /home/cetinsky/.pyenv/versions/3.10.6/envs/startup_success_predictor/lib/python3.10/site-packages (from astunparse>=1.6.0->tensorflow) (0.43.0)\n",
      "Requirement already satisfied: rich in /home/cetinsky/.pyenv/versions/3.10.6/envs/startup_success_predictor/lib/python3.10/site-packages (from keras>=3.0.0->tensorflow) (13.7.1)\n",
      "Requirement already satisfied: namex in /home/cetinsky/.pyenv/versions/3.10.6/envs/startup_success_predictor/lib/python3.10/site-packages (from keras>=3.0.0->tensorflow) (0.0.8)\n",
      "Requirement already satisfied: optree in /home/cetinsky/.pyenv/versions/3.10.6/envs/startup_success_predictor/lib/python3.10/site-packages (from keras>=3.0.0->tensorflow) (0.11.0)\n",
      "Requirement already satisfied: charset-normalizer<4,>=2 in /home/cetinsky/.pyenv/versions/3.10.6/envs/startup_success_predictor/lib/python3.10/site-packages (from requests<3,>=2.21.0->tensorflow) (3.3.2)\n",
      "Requirement already satisfied: idna<4,>=2.5 in /home/cetinsky/.pyenv/versions/3.10.6/envs/startup_success_predictor/lib/python3.10/site-packages (from requests<3,>=2.21.0->tensorflow) (3.7)\n",
      "Requirement already satisfied: urllib3<3,>=1.21.1 in /home/cetinsky/.pyenv/versions/3.10.6/envs/startup_success_predictor/lib/python3.10/site-packages (from requests<3,>=2.21.0->tensorflow) (2.2.1)\n",
      "Requirement already satisfied: certifi>=2017.4.17 in /home/cetinsky/.pyenv/versions/3.10.6/envs/startup_success_predictor/lib/python3.10/site-packages (from requests<3,>=2.21.0->tensorflow) (2024.2.2)\n",
      "Requirement already satisfied: markdown>=2.6.8 in /home/cetinsky/.pyenv/versions/3.10.6/envs/startup_success_predictor/lib/python3.10/site-packages (from tensorboard<2.17,>=2.16->tensorflow) (3.6)\n",
      "Requirement already satisfied: tensorboard-data-server<0.8.0,>=0.7.0 in /home/cetinsky/.pyenv/versions/3.10.6/envs/startup_success_predictor/lib/python3.10/site-packages (from tensorboard<2.17,>=2.16->tensorflow) (0.7.2)\n",
      "Requirement already satisfied: werkzeug>=1.0.1 in /home/cetinsky/.pyenv/versions/3.10.6/envs/startup_success_predictor/lib/python3.10/site-packages (from tensorboard<2.17,>=2.16->tensorflow) (3.0.3)\n",
      "Requirement already satisfied: MarkupSafe>=2.1.1 in /home/cetinsky/.pyenv/versions/3.10.6/envs/startup_success_predictor/lib/python3.10/site-packages (from werkzeug>=1.0.1->tensorboard<2.17,>=2.16->tensorflow) (2.1.5)\n",
      "Requirement already satisfied: markdown-it-py>=2.2.0 in /home/cetinsky/.pyenv/versions/3.10.6/envs/startup_success_predictor/lib/python3.10/site-packages (from rich->keras>=3.0.0->tensorflow) (3.0.0)\n",
      "Requirement already satisfied: pygments<3.0.0,>=2.13.0 in /home/cetinsky/.pyenv/versions/3.10.6/envs/startup_success_predictor/lib/python3.10/site-packages (from rich->keras>=3.0.0->tensorflow) (2.18.0)\n",
      "Requirement already satisfied: mdurl~=0.1 in /home/cetinsky/.pyenv/versions/3.10.6/envs/startup_success_predictor/lib/python3.10/site-packages (from markdown-it-py>=2.2.0->rich->keras>=3.0.0->tensorflow) (0.1.2)\n"
     ]
    }
   ],
   "source": [
    "! pip install tensorflow"
   ]
  },
  {
   "cell_type": "code",
   "execution_count": 16,
   "id": "3342a01d",
   "metadata": {},
   "outputs": [
    {
     "name": "stderr",
     "output_type": "stream",
     "text": [
      "2024-05-30 22:11:07.457970: I tensorflow/core/util/port.cc:113] oneDNN custom operations are on. You may see slightly different numerical results due to floating-point round-off errors from different computation orders. To turn them off, set the environment variable `TF_ENABLE_ONEDNN_OPTS=0`.\n",
      "2024-05-30 22:11:07.461784: I external/local_tsl/tsl/cuda/cudart_stub.cc:32] Could not find cuda drivers on your machine, GPU will not be used.\n",
      "2024-05-30 22:11:07.626507: I external/local_tsl/tsl/cuda/cudart_stub.cc:32] Could not find cuda drivers on your machine, GPU will not be used.\n",
      "2024-05-30 22:11:08.126223: I tensorflow/core/platform/cpu_feature_guard.cc:210] This TensorFlow binary is optimized to use available CPU instructions in performance-critical operations.\n",
      "To enable the following instructions: AVX2 AVX512F AVX512_VNNI FMA, in other operations, rebuild TensorFlow with the appropriate compiler flags.\n",
      "2024-05-30 22:11:09.239920: W tensorflow/compiler/tf2tensorrt/utils/py_utils.cc:38] TF-TRT Warning: Could not find TensorRT\n"
     ]
    }
   ],
   "source": [
    "from tensorflow import keras\n",
    "from keras import Model, Sequential, layers, regularizers, optimizers\n",
    "from keras.callbacks import EarlyStopping"
   ]
  },
  {
   "cell_type": "code",
   "execution_count": 17,
   "id": "f3ba4dcc",
   "metadata": {},
   "outputs": [
    {
     "data": {
      "text/plain": [
       "(855, 70)"
      ]
     },
     "execution_count": 17,
     "metadata": {},
     "output_type": "execute_result"
    }
   ],
   "source": [
    "X_preprocessed.shape"
   ]
  },
  {
   "cell_type": "code",
   "execution_count": 18,
   "id": "ac32ae36",
   "metadata": {},
   "outputs": [
    {
     "name": "stderr",
     "output_type": "stream",
     "text": [
      "2024-05-30 22:11:10.715877: I external/local_xla/xla/stream_executor/cuda/cuda_executor.cc:984] could not open file to read NUMA node: /sys/bus/pci/devices/0000:01:00.0/numa_node\n",
      "Your kernel may have been built without NUMA support.\n",
      "2024-05-30 22:11:10.716567: W tensorflow/core/common_runtime/gpu/gpu_device.cc:2251] Cannot dlopen some GPU libraries. Please make sure the missing libraries mentioned above are installed properly if you would like to use GPU. Follow the guide at https://www.tensorflow.org/install/gpu for how to download and setup the required libraries for your platform.\n",
      "Skipping registering GPU devices...\n"
     ]
    }
   ],
   "source": [
    "reg = regularizers.l1_l2(l2=0.005)\n",
    "\n",
    "model = Sequential()\n",
    "model.add(layers.Input(shape=(X_preprocessed.shape[1],)))\n",
    "model.add(layers.Dense(50, activation=\"relu\", kernel_regularizer=reg))\n",
    "model.add(layers.BatchNormalization(momentum=0.9))\n",
    "model.add(layers.Dropout(rate=0.1))\n",
    "model.add(layers.Dense(20, activation=\"tanh\"))\n",
    "model.add(layers.BatchNormalization(momentum=0.9))\n",
    "model.add(layers.Dropout(rate=0.1))\n",
    "model.add(layers.Dense(1, activation=\"sigmoid\"))"
   ]
  },
  {
   "cell_type": "code",
   "execution_count": 19,
   "id": "3c11adde",
   "metadata": {},
   "outputs": [],
   "source": [
    "learning_rate = 0.01\n",
    "\n",
    "optimizer = optimizers.Adam(learning_rate=learning_rate)\n",
    "model.compile(loss='binary_crossentropy',\n",
    "              optimizer='adam',\n",
    "              metrics=['accuracy'])"
   ]
  },
  {
   "cell_type": "code",
   "execution_count": 20,
   "id": "84dc4a2b",
   "metadata": {},
   "outputs": [
    {
     "name": "stdout",
     "output_type": "stream",
     "text": [
      "Epoch 75: early stopping\n",
      "Restoring model weights from the end of the best epoch: 55.\n"
     ]
    }
   ],
   "source": [
    "es = EarlyStopping(\n",
    "    patience=20,\n",
    "    restore_best_weights=True,\n",
    "    verbose=1\n",
    ")\n",
    "\n",
    "history = model.fit(\n",
    "    X_train,\n",
    "    y_train,\n",
    "    validation_split=0.2,\n",
    "    epochs=700,\n",
    "    batch_size=32,\n",
    "    callbacks=[es],\n",
    "    verbose=0\n",
    ")"
   ]
  },
  {
   "cell_type": "code",
   "execution_count": 21,
   "id": "9bdb0c86",
   "metadata": {},
   "outputs": [
    {
     "data": {
      "text/plain": [
       "{'accuracy': [0.541133463382721,\n",
       "  0.5813528299331665,\n",
       "  0.6581352949142456,\n",
       "  0.7312614321708679,\n",
       "  0.7751371264457703,\n",
       "  0.7824497222900391,\n",
       "  0.8208409547805786,\n",
       "  0.8281535506248474,\n",
       "  0.864716649055481,\n",
       "  0.868372917175293,\n",
       "  0.9012796878814697,\n",
       "  0.8866544961929321,\n",
       "  0.8921389579772949,\n",
       "  0.8903107643127441,\n",
       "  0.9085923433303833,\n",
       "  0.9085923433303833,\n",
       "  0.9323583245277405,\n",
       "  0.9232175350189209,\n",
       "  0.9195612668991089,\n",
       "  0.9140768051147461,\n",
       "  0.9287019968032837,\n",
       "  0.9378427863121033,\n",
       "  0.9378427863121033,\n",
       "  0.9433272480964661,\n",
       "  0.9414991140365601,\n",
       "  0.9396709203720093,\n",
       "  0.9305301904678345,\n",
       "  0.9378427863121033,\n",
       "  0.9360146522521973,\n",
       "  0.9414991140365601,\n",
       "  0.9542961716651917,\n",
       "  0.9360146522521973,\n",
       "  0.9378427863121033,\n",
       "  0.9597806334495544,\n",
       "  0.9561243057250977,\n",
       "  0.9488117098808289,\n",
       "  0.9488117098808289,\n",
       "  0.9488117098808289,\n",
       "  0.9652650952339172,\n",
       "  0.9488117098808289,\n",
       "  0.9597806334495544,\n",
       "  0.97074955701828,\n",
       "  0.9579524397850037,\n",
       "  0.9670932292938232,\n",
       "  0.972577691078186,\n",
       "  0.97074955701828,\n",
       "  0.9597806334495544,\n",
       "  0.9652650952339172,\n",
       "  0.9579524397850037,\n",
       "  0.9616087675094604,\n",
       "  0.9597806334495544,\n",
       "  0.9561243057250977,\n",
       "  0.9488117098808289,\n",
       "  0.9451553821563721,\n",
       "  0.9597806334495544,\n",
       "  0.97074955701828,\n",
       "  0.9451553821563721,\n",
       "  0.9652650952339172,\n",
       "  0.9542961716651917,\n",
       "  0.972577691078186,\n",
       "  0.97074955701828,\n",
       "  0.9689213633537292,\n",
       "  0.972577691078186,\n",
       "  0.9817184805870056,\n",
       "  0.972577691078186,\n",
       "  0.97074955701828,\n",
       "  0.9780621528625488,\n",
       "  0.9798902869224548,\n",
       "  0.9817184805870056,\n",
       "  0.9780621528625488,\n",
       "  0.974405825138092,\n",
       "  0.9762340188026428,\n",
       "  0.9670932292938232,\n",
       "  0.9689213633537292,\n",
       "  0.9817184805870056],\n",
       " 'loss': [1.0739269256591797,\n",
       "  0.9301586151123047,\n",
       "  0.8465660214424133,\n",
       "  0.7830924391746521,\n",
       "  0.7207137942314148,\n",
       "  0.699536919593811,\n",
       "  0.6487870216369629,\n",
       "  0.6228454113006592,\n",
       "  0.5801302790641785,\n",
       "  0.5472788214683533,\n",
       "  0.5129194259643555,\n",
       "  0.5060358643531799,\n",
       "  0.4839087426662445,\n",
       "  0.4571321904659271,\n",
       "  0.43576428294181824,\n",
       "  0.41648027300834656,\n",
       "  0.38647088408470154,\n",
       "  0.37396976351737976,\n",
       "  0.37030142545700073,\n",
       "  0.3675488531589508,\n",
       "  0.34481459856033325,\n",
       "  0.329789936542511,\n",
       "  0.3212536573410034,\n",
       "  0.30640190839767456,\n",
       "  0.29996103048324585,\n",
       "  0.2801516056060791,\n",
       "  0.28950202465057373,\n",
       "  0.27371951937675476,\n",
       "  0.2796279788017273,\n",
       "  0.27548474073410034,\n",
       "  0.24788597226142883,\n",
       "  0.25774484872817993,\n",
       "  0.25008681416511536,\n",
       "  0.22664903104305267,\n",
       "  0.22901488840579987,\n",
       "  0.22853495180606842,\n",
       "  0.22985808551311493,\n",
       "  0.22282271087169647,\n",
       "  0.2060396671295166,\n",
       "  0.2278725951910019,\n",
       "  0.20914418995380402,\n",
       "  0.18837806582450867,\n",
       "  0.19363784790039062,\n",
       "  0.18353737890720367,\n",
       "  0.1824861317873001,\n",
       "  0.17942653596401215,\n",
       "  0.1851292997598648,\n",
       "  0.17806962132453918,\n",
       "  0.19366563856601715,\n",
       "  0.17763769626617432,\n",
       "  0.17899090051651,\n",
       "  0.18264886736869812,\n",
       "  0.1940985918045044,\n",
       "  0.2018347978591919,\n",
       "  0.17349714040756226,\n",
       "  0.16713769733905792,\n",
       "  0.19393274188041687,\n",
       "  0.16115200519561768,\n",
       "  0.17595255374908447,\n",
       "  0.1578601598739624,\n",
       "  0.15699033439159393,\n",
       "  0.16562005877494812,\n",
       "  0.14980319142341614,\n",
       "  0.13283106684684753,\n",
       "  0.14421482384204865,\n",
       "  0.1470314860343933,\n",
       "  0.14335677027702332,\n",
       "  0.1332283616065979,\n",
       "  0.13881176710128784,\n",
       "  0.1268858164548874,\n",
       "  0.135050967335701,\n",
       "  0.13588456809520721,\n",
       "  0.13052880764007568,\n",
       "  0.13663803040981293,\n",
       "  0.12072136253118515],\n",
       " 'val_accuracy': [0.510948896408081,\n",
       "  0.5839415788650513,\n",
       "  0.6861313581466675,\n",
       "  0.7226277589797974,\n",
       "  0.7372262477874756,\n",
       "  0.7664233446121216,\n",
       "  0.7737226486206055,\n",
       "  0.7883211970329285,\n",
       "  0.7883211970329285,\n",
       "  0.8248175382614136,\n",
       "  0.8175182342529297,\n",
       "  0.8467153310775757,\n",
       "  0.8613138794898987,\n",
       "  0.8540145754814148,\n",
       "  0.8686131238937378,\n",
       "  0.8321167826652527,\n",
       "  0.8613138794898987,\n",
       "  0.8540145754814148,\n",
       "  0.8613138794898987,\n",
       "  0.8686131238937378,\n",
       "  0.8467153310775757,\n",
       "  0.8613138794898987,\n",
       "  0.8613138794898987,\n",
       "  0.8686131238937378,\n",
       "  0.8686131238937378,\n",
       "  0.8905109763145447,\n",
       "  0.8686131238937378,\n",
       "  0.8540145754814148,\n",
       "  0.8686131238937378,\n",
       "  0.8686131238937378,\n",
       "  0.8905109763145447,\n",
       "  0.8759124279022217,\n",
       "  0.8686131238937378,\n",
       "  0.8686131238937378,\n",
       "  0.8686131238937378,\n",
       "  0.8540145754814148,\n",
       "  0.8613138794898987,\n",
       "  0.8905109763145447,\n",
       "  0.8759124279022217,\n",
       "  0.8686131238937378,\n",
       "  0.8540145754814148,\n",
       "  0.8467153310775757,\n",
       "  0.8905109763145447,\n",
       "  0.8686131238937378,\n",
       "  0.8467153310775757,\n",
       "  0.8759124279022217,\n",
       "  0.8832116723060608,\n",
       "  0.8613138794898987,\n",
       "  0.8467153310775757,\n",
       "  0.8613138794898987,\n",
       "  0.8467153310775757,\n",
       "  0.8686131238937378,\n",
       "  0.8613138794898987,\n",
       "  0.9051094651222229,\n",
       "  0.9051094651222229,\n",
       "  0.8832116723060608,\n",
       "  0.8905109763145447,\n",
       "  0.8613138794898987,\n",
       "  0.8686131238937378,\n",
       "  0.8686131238937378,\n",
       "  0.8686131238937378,\n",
       "  0.8613138794898987,\n",
       "  0.8759124279022217,\n",
       "  0.8686131238937378,\n",
       "  0.8832116723060608,\n",
       "  0.8686131238937378,\n",
       "  0.8686131238937378,\n",
       "  0.8832116723060608,\n",
       "  0.8759124279022217,\n",
       "  0.8759124279022217,\n",
       "  0.8613138794898987,\n",
       "  0.8759124279022217,\n",
       "  0.8686131238937378,\n",
       "  0.8759124279022217,\n",
       "  0.8759124279022217],\n",
       " 'val_loss': [0.9923205971717834,\n",
       "  0.8924062252044678,\n",
       "  0.8153724074363708,\n",
       "  0.7502962946891785,\n",
       "  0.7419266700744629,\n",
       "  0.7341380715370178,\n",
       "  0.6702393293380737,\n",
       "  0.6596782803535461,\n",
       "  0.6131763458251953,\n",
       "  0.570715606212616,\n",
       "  0.55753093957901,\n",
       "  0.5275571942329407,\n",
       "  0.4908279776573181,\n",
       "  0.4832358956336975,\n",
       "  0.4751524031162262,\n",
       "  0.4818241596221924,\n",
       "  0.4347100257873535,\n",
       "  0.43163448572158813,\n",
       "  0.41824913024902344,\n",
       "  0.43110474944114685,\n",
       "  0.4225861728191376,\n",
       "  0.42099958658218384,\n",
       "  0.3823714256286621,\n",
       "  0.3964349925518036,\n",
       "  0.39388319849967957,\n",
       "  0.36557358503341675,\n",
       "  0.39289146661758423,\n",
       "  0.39524948596954346,\n",
       "  0.36354759335517883,\n",
       "  0.36884650588035583,\n",
       "  0.35944607853889465,\n",
       "  0.3550759553909302,\n",
       "  0.3712291121482849,\n",
       "  0.3788605034351349,\n",
       "  0.3748670518398285,\n",
       "  0.3988724946975708,\n",
       "  0.3839499056339264,\n",
       "  0.35278916358947754,\n",
       "  0.3718084692955017,\n",
       "  0.36864858865737915,\n",
       "  0.37880638241767883,\n",
       "  0.38462474942207336,\n",
       "  0.3573537766933441,\n",
       "  0.3627355694770813,\n",
       "  0.4025418758392334,\n",
       "  0.36099565029144287,\n",
       "  0.3582543432712555,\n",
       "  0.37367933988571167,\n",
       "  0.43324530124664307,\n",
       "  0.3612470030784607,\n",
       "  0.36816808581352234,\n",
       "  0.3752225339412689,\n",
       "  0.4040529131889343,\n",
       "  0.3370015621185303,\n",
       "  0.32627445459365845,\n",
       "  0.35349613428115845,\n",
       "  0.34235119819641113,\n",
       "  0.3602086305618286,\n",
       "  0.36354514956474304,\n",
       "  0.3404874801635742,\n",
       "  0.38468682765960693,\n",
       "  0.3497024178504944,\n",
       "  0.3687659502029419,\n",
       "  0.40160372853279114,\n",
       "  0.3617422878742218,\n",
       "  0.3680063486099243,\n",
       "  0.38305696845054626,\n",
       "  0.39351847767829895,\n",
       "  0.3875158131122589,\n",
       "  0.36207863688468933,\n",
       "  0.4011940360069275,\n",
       "  0.3851082921028137,\n",
       "  0.37059998512268066,\n",
       "  0.3594675660133362,\n",
       "  0.38661375641822815]}"
      ]
     },
     "execution_count": 21,
     "metadata": {},
     "output_type": "execute_result"
    }
   ],
   "source": [
    "history.history"
   ]
  },
  {
   "cell_type": "code",
   "execution_count": 22,
   "id": "9c77e6ff",
   "metadata": {
    "scrolled": true
   },
   "outputs": [
    {
     "name": "stdout",
     "output_type": "stream",
     "text": [
      "\u001b[1m6/6\u001b[0m \u001b[32m━━━━━━━━━━━━━━━━━━━━\u001b[0m\u001b[37m\u001b[0m \u001b[1m0s\u001b[0m 2ms/step - accuracy: 0.8812 - loss: 0.4333 \n"
     ]
    }
   ],
   "source": [
    "results = model.evaluate(X_test, y_test)\n"
   ]
  },
  {
   "cell_type": "code",
   "execution_count": null,
   "id": "73a4adc6",
   "metadata": {},
   "outputs": [],
   "source": []
  }
 ],
 "metadata": {
  "kernelspec": {
   "display_name": "Python 3 (ipykernel)",
   "language": "python",
   "name": "python3"
  },
  "language_info": {
   "codemirror_mode": {
    "name": "ipython",
    "version": 3
   },
   "file_extension": ".py",
   "mimetype": "text/x-python",
   "name": "python",
   "nbconvert_exporter": "python",
   "pygments_lexer": "ipython3",
   "version": "3.10.6"
  },
  "toc": {
   "base_numbering": 1,
   "nav_menu": {},
   "number_sections": true,
   "sideBar": true,
   "skip_h1_title": false,
   "title_cell": "Table of Contents",
   "title_sidebar": "Contents",
   "toc_cell": false,
   "toc_position": {},
   "toc_section_display": true,
   "toc_window_display": false
  }
 },
 "nbformat": 4,
 "nbformat_minor": 5
}
